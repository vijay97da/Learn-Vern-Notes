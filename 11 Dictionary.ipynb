{
 "cells": [
  {
   "cell_type": "markdown",
   "id": "1c9ce7ab",
   "metadata": {},
   "source": [
    "# Dictionary"
   ]
  },
  {
   "cell_type": "markdown",
   "id": "0111ec2a",
   "metadata": {},
   "source": [
    "#### What is Dictionary ?"
   ]
  },
  {
   "cell_type": "markdown",
   "id": "35ddcd87",
   "metadata": {},
   "source": [
    "1) Dictionary is a collection of python, which works on key and value pair.\n",
    "2) Dictionary follow the ordered container or collection.\n",
    "3) Dictionary has immutable key and value could be immutable and mutable both which depends upon what value you are storing."
   ]
  },
  {
   "cell_type": "markdown",
   "id": "5dfc1a9b",
   "metadata": {},
   "source": [
    "### Creating a Dictionary"
   ]
  },
  {
   "cell_type": "code",
   "execution_count": 2,
   "id": "995490cc",
   "metadata": {},
   "outputs": [
    {
     "name": "stdout",
     "output_type": "stream",
     "text": [
      "{1: 'Apple', 2: 'Mango', 3: 'Orange', 4: 'Apple', 'A': 'B'}\n",
      "<class 'dict'>\n"
     ]
    }
   ],
   "source": [
    "d1 = {1 : \"Apple\", 2 : \"Mango\", 3 : \"Orange\", 4 : \"Apple\", \"A\" : \"B\"} # first we put the key then after colon we put the value of a key\n",
    "print(d1) \n",
    "print(type(d1)) # check the date type"
   ]
  },
  {
   "cell_type": "markdown",
   "id": "af547f4c",
   "metadata": {},
   "source": [
    "### List inot Dictonary Store"
   ]
  },
  {
   "cell_type": "code",
   "execution_count": 4,
   "id": "48df1b6f",
   "metadata": {},
   "outputs": [
    {
     "name": "stdout",
     "output_type": "stream",
     "text": [
      "{1: 'python', 2: 'java', 'fruit': ['apple', 'orange', 'mango']}\n"
     ]
    }
   ],
   "source": [
    "# Storing a list into Dictionary on a single key\n",
    "d2 = {1 : \"python\", 2 : \"java\", \"fruit\" : [\"apple\",\"orange\",\"mango\"]}\n",
    "print(d2)"
   ]
  },
  {
   "cell_type": "markdown",
   "id": "cb339c96",
   "metadata": {},
   "source": [
    "### Tuple into Dictionary Store"
   ]
  },
  {
   "cell_type": "code",
   "execution_count": 5,
   "id": "8c0c9daa",
   "metadata": {},
   "outputs": [
    {
     "name": "stdout",
     "output_type": "stream",
     "text": [
      "{1: 'python', 2: 'java', 'language': ('java', 'python', 'php')}\n"
     ]
    }
   ],
   "source": [
    "# Storing a tuple into Dictionary on a single key\n",
    "d3 = {1 : \"python\",2 : \"java\", \"language\" : (\"java\",\"python\",\"php\")}\n",
    "print(d3)"
   ]
  },
  {
   "cell_type": "markdown",
   "id": "b360420c",
   "metadata": {},
   "source": [
    "### Access the value of Dictionary"
   ]
  },
  {
   "cell_type": "code",
   "execution_count": 9,
   "id": "354ac81e",
   "metadata": {},
   "outputs": [
    {
     "name": "stdout",
     "output_type": "stream",
     "text": [
      "{1: 'Apple', 2: 'Mango', 3: 'Orange', 4: 'Apple', 'A': 'B'}\n",
      "Orange\n",
      "Apple\n",
      "dict_items([(1, 'Apple'), (2, 'Mango'), (3, 'Orange'), (4, 'Apple'), ('A', 'B')])\n"
     ]
    }
   ],
   "source": [
    "d1 = {1 : \"Apple\", 2 : \"Mango\", 3 : \"Orange\", 4 : \"Apple\", \"A\" : \"B\"}\n",
    "print(d1)\n",
    "\n",
    "# Access the value using key\n",
    "x = d1[3]\n",
    "print(x)\n",
    "\n",
    "# Access the value using get()\n",
    "y = d1.get(1)\n",
    "print(y)\n",
    "\n",
    "# Access the value using item()\n",
    "z = d1.items()\n",
    "print(z)\n"
   ]
  },
  {
   "cell_type": "markdown",
   "id": "7925b87a",
   "metadata": {},
   "source": [
    "### Change the Value"
   ]
  },
  {
   "cell_type": "code",
   "execution_count": 12,
   "id": "a80afe8c",
   "metadata": {},
   "outputs": [
    {
     "name": "stdout",
     "output_type": "stream",
     "text": [
      "Before Update :  {1: 'Apple', 2: 'Mango', 3: 'Orange', 4: 'Apple', 'A': 'B'}\n",
      "Updated dict :  {1: 'Apple', 2: 'Mango', 3: 'kiwi', 4: 'Apple', 'A': 'B'}\n"
     ]
    }
   ],
   "source": [
    "d1 = {1 : \"Apple\", 2 : \"Mango\", 3 : \"Orange\", 4 : \"Apple\", \"A\" : \"B\"}\n",
    "print(\"Before Update : \",d1)\n",
    "d1[3] = \"kiwi\"\n",
    "print(\"Updated dict : \",d1)"
   ]
  },
  {
   "cell_type": "code",
   "execution_count": 14,
   "id": "fe4b04f6",
   "metadata": {},
   "outputs": [
    {
     "name": "stdout",
     "output_type": "stream",
     "text": [
      "Current Dict :  {1: 'Apple', 2: 'Mango', 3: 'kiwi', 4: 'Apple', 'A': 'B'}\n",
      "Updated Dict :  {1: 'Apple', 2: 'Banana', 3: 'kiwi', 4: 'Apple', 'A': 'B'}\n"
     ]
    }
   ],
   "source": [
    "# Update Dictionary by using update()\n",
    "d1 = {1 : \"Apple\", 2 : \"Mango\", 3 : \"Orange\", 4 : \"Apple\", \"A\" : \"B\"}\n",
    "print(\"Current Dict : \",d1)\n",
    "\n",
    "# Update dictionary by using update method\n",
    "d1.update({2:\"Banana\"})\n",
    "print(\"Updated Dict : \",d1)"
   ]
  },
  {
   "cell_type": "markdown",
   "id": "ff77468d",
   "metadata": {},
   "source": [
    "### Remove value from Dictionary"
   ]
  },
  {
   "cell_type": "code",
   "execution_count": 20,
   "id": "82bf6b77",
   "metadata": {},
   "outputs": [
    {
     "name": "stdout",
     "output_type": "stream",
     "text": [
      "Current Dict :  {1: 'Apple', 2: 'Mango', 3: 'Orange', 4: 'Apple', 'A': 'B'}\n",
      "Updated Dict with pop : {1: 'Apple', 3: 'Orange', 4: 'Apple', 'A': 'B'}\n",
      "Updated Dict with popitem : {1: 'Apple', 3: 'Orange', 4: 'Apple'}\n",
      "Updated Dict with del :  {3: 'Orange', 4: 'Apple'}\n",
      "Updated Dict with clear :  {}\n"
     ]
    }
   ],
   "source": [
    "# Using Pop()\n",
    "d1 = {1 : \"Apple\", 2 : \"Mango\", 3 : \"Orange\", 4 : \"Apple\", \"A\" : \"B\"}\n",
    "print(\"Current Dict : \",d1)\n",
    "\n",
    "d1.pop(2) # you need to pass the key\n",
    "print(\"Updated Dict with pop :\",d1)\n",
    "\n",
    "# Using popitem() = it picks out last value\n",
    "d1.popitem()\n",
    "print(\"Updated Dict with popitem :\",d1)\n",
    "\n",
    "# Using del()\n",
    "del d1[1]\n",
    "print(\"Updated Dict with del : \",d1)\n",
    "\n",
    "# Using Clear()\n",
    "d1.clear()\n",
    "print(\"Updated Dict with clear : \",d1)\n",
    "\n",
    "\n",
    "\n"
   ]
  },
  {
   "cell_type": "code",
   "execution_count": 23,
   "id": "29d31bc3",
   "metadata": {},
   "outputs": [
    {
     "name": "stdout",
     "output_type": "stream",
     "text": [
      "Current Dict :  {1: 'Apple', 2: 'Mango', 3: 'Orange', 4: 'Apple', 'A': 'B'}\n",
      "Updated Dict with keys :  dict_keys([1, 2, 3, 4, 'A'])\n",
      "Updated Dict with values :  dict_values(['Apple', 'Mango', 'Orange', 'Apple', 'B'])\n"
     ]
    }
   ],
   "source": [
    "# Access the only keys from Dictionary\n",
    "a = {1 : \"Apple\", 2 : \"Mango\", 3 : \"Orange\", 4 : \"Apple\", \"A\" : \"B\"}\n",
    "print(\"Current Dict : \",a)\n",
    "a1 = a.keys()\n",
    "print(\"Updated Dict with keys : \",a1)\n",
    "\n",
    "# Access the only values from Dictionary\n",
    "a2 = a.values()\n",
    "print(\"Updated Dict with values : \",a2)"
   ]
  },
  {
   "cell_type": "code",
   "execution_count": null,
   "id": "8a79e490",
   "metadata": {},
   "outputs": [],
   "source": []
  }
 ],
 "metadata": {
  "kernelspec": {
   "display_name": "Python 3 (ipykernel)",
   "language": "python",
   "name": "python3"
  },
  "language_info": {
   "codemirror_mode": {
    "name": "ipython",
    "version": 3
   },
   "file_extension": ".py",
   "mimetype": "text/x-python",
   "name": "python",
   "nbconvert_exporter": "python",
   "pygments_lexer": "ipython3",
   "version": "3.11.5"
  }
 },
 "nbformat": 4,
 "nbformat_minor": 5
}

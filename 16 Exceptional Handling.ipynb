{
 "cells": [
  {
   "cell_type": "markdown",
   "id": "f63d4acb",
   "metadata": {},
   "source": [
    "# Exceptional Handling"
   ]
  },
  {
   "cell_type": "markdown",
   "id": "7ed4e3f9",
   "metadata": {},
   "source": [
    "Exception means the abnormal situation occurs at runtime and stop the execution of pragram is called exception.     \n",
    "In python two types of Error.\n",
    "1) Syntax Error\n",
    "2) Exception"
   ]
  },
  {
   "cell_type": "markdown",
   "id": "47858e11",
   "metadata": {},
   "source": [
    "## 1) Syntax Error"
   ]
  },
  {
   "cell_type": "markdown",
   "id": "0482117d",
   "metadata": {},
   "source": [
    "As the name suggest this error is caused by wrong syntax in the code. It leads to the termination of the program."
   ]
  },
  {
   "cell_type": "markdown",
   "id": "cf54f332",
   "metadata": {},
   "source": [
    "## 2) Exception"
   ]
  },
  {
   "cell_type": "markdown",
   "id": "bd7cb239",
   "metadata": {},
   "source": [
    "Exceptions are raised when the program is syntactically correct but the code resulted in an error. This error does not stop the execution of the program, however, it changes the normal flow of the program."
   ]
  },
  {
   "cell_type": "markdown",
   "id": "ec66599f",
   "metadata": {},
   "source": [
    "### User Define Exception"
   ]
  },
  {
   "cell_type": "markdown",
   "id": "4e369b71",
   "metadata": {},
   "source": [
    "User define exception means user can generate his custom excetion in python by inherited the excetion class."
   ]
  },
  {
   "cell_type": "markdown",
   "id": "a2342855",
   "metadata": {},
   "source": [
    "### Exception Creating"
   ]
  },
  {
   "cell_type": "code",
   "execution_count": 3,
   "id": "765a90c9",
   "metadata": {},
   "outputs": [
    {
     "name": "stdout",
     "output_type": "stream",
     "text": [
      "Enter the value of A : python\n"
     ]
    },
    {
     "ename": "ValueError",
     "evalue": "invalid literal for int() with base 10: 'python'",
     "output_type": "error",
     "traceback": [
      "\u001b[1;31m---------------------------------------------------------------------------\u001b[0m",
      "\u001b[1;31mValueError\u001b[0m                                Traceback (most recent call last)",
      "Cell \u001b[1;32mIn[3], line 1\u001b[0m\n\u001b[1;32m----> 1\u001b[0m a \u001b[38;5;241m=\u001b[39m \u001b[38;5;28mint\u001b[39m(\u001b[38;5;28minput\u001b[39m(\u001b[38;5;124m\"\u001b[39m\u001b[38;5;124mEnter the value of A : \u001b[39m\u001b[38;5;124m\"\u001b[39m))\n\u001b[0;32m      2\u001b[0m \u001b[38;5;28mprint\u001b[39m(\u001b[38;5;124m\"\u001b[39m\u001b[38;5;124mA : \u001b[39m\u001b[38;5;124m\"\u001b[39m,a)\n",
      "\u001b[1;31mValueError\u001b[0m: invalid literal for int() with base 10: 'python'"
     ]
    }
   ],
   "source": [
    "a = int(input(\"Enter the value of A : \"))\n",
    "print(\"A : \",a)\n",
    "# we got a wrong input by the user\n",
    "print(\"bye for checking\")\n",
    "\n",
    "#ValueError = for example u put string except of integer"
   ]
  },
  {
   "cell_type": "code",
   "execution_count": 5,
   "id": "bd7333a1",
   "metadata": {},
   "outputs": [
    {
     "name": "stdout",
     "output_type": "stream",
     "text": [
      "Enter the value of A : 10\n",
      "Enter the value of B : 5\n",
      "Answer :  2.0\n",
      "bye\n"
     ]
    }
   ],
   "source": [
    "# Another example\n",
    "a = int(input(\"Enter the value of A : \"))\n",
    "b = int(input(\"Enter the value of B : \"))\n",
    "\n",
    "c = a/b\n",
    "print(\"Answer : \",c)\n",
    "print(\"bye\")\n"
   ]
  },
  {
   "cell_type": "code",
   "execution_count": 6,
   "id": "71793d4c",
   "metadata": {},
   "outputs": [
    {
     "name": "stdout",
     "output_type": "stream",
     "text": [
      "Enter the value of A : 10\n",
      "Enter the value of B : 0\n"
     ]
    },
    {
     "ename": "ZeroDivisionError",
     "evalue": "division by zero",
     "output_type": "error",
     "traceback": [
      "\u001b[1;31m---------------------------------------------------------------------------\u001b[0m",
      "\u001b[1;31mZeroDivisionError\u001b[0m                         Traceback (most recent call last)",
      "Cell \u001b[1;32mIn[6], line 5\u001b[0m\n\u001b[0;32m      2\u001b[0m a \u001b[38;5;241m=\u001b[39m \u001b[38;5;28mint\u001b[39m(\u001b[38;5;28minput\u001b[39m(\u001b[38;5;124m\"\u001b[39m\u001b[38;5;124mEnter the value of A : \u001b[39m\u001b[38;5;124m\"\u001b[39m))\n\u001b[0;32m      3\u001b[0m b \u001b[38;5;241m=\u001b[39m \u001b[38;5;28mint\u001b[39m(\u001b[38;5;28minput\u001b[39m(\u001b[38;5;124m\"\u001b[39m\u001b[38;5;124mEnter the value of B : \u001b[39m\u001b[38;5;124m\"\u001b[39m))\n\u001b[1;32m----> 5\u001b[0m c \u001b[38;5;241m=\u001b[39m a\u001b[38;5;241m/\u001b[39mb\n\u001b[0;32m      6\u001b[0m \u001b[38;5;28mprint\u001b[39m(\u001b[38;5;124m\"\u001b[39m\u001b[38;5;124mAnswer : \u001b[39m\u001b[38;5;124m\"\u001b[39m,c)\n\u001b[0;32m      7\u001b[0m \u001b[38;5;28mprint\u001b[39m(\u001b[38;5;124m\"\u001b[39m\u001b[38;5;124mbye\u001b[39m\u001b[38;5;124m\"\u001b[39m)\n",
      "\u001b[1;31mZeroDivisionError\u001b[0m: division by zero"
     ]
    }
   ],
   "source": [
    "# run another time\n",
    "a = int(input(\"Enter the value of A : \"))\n",
    "b = int(input(\"Enter the value of B : \"))\n",
    "\n",
    "c = a/b\n",
    "print(\"Answer : \",c)\n",
    "print(\"bye\")\n",
    "\n",
    "# ZeroDivisionError = there is no such value divided by the zero\n"
   ]
  },
  {
   "cell_type": "markdown",
   "id": "3cd90eed",
   "metadata": {},
   "source": [
    "## Try and Exception"
   ]
  },
  {
   "cell_type": "code",
   "execution_count": 11,
   "id": "548fdf96",
   "metadata": {},
   "outputs": [
    {
     "name": "stdout",
     "output_type": "stream",
     "text": [
      "Enter the value of A : 10\n",
      "Enter the value of B : 5\n",
      "Answer :  2.0\n",
      "bye\n"
     ]
    }
   ],
   "source": [
    "# how to avoid error by using try and except\n",
    "# attempt first\n",
    "\n",
    "try:\n",
    "    # The code which is written try block can be occur error at runtime\n",
    "    a = int(input(\"Enter the value of A : \"))\n",
    "    b = int(input(\"Enter the value of B : \"))\n",
    "\n",
    "    c = a/b\n",
    "    print(\"Answer : \",c)\n",
    "except Exception as e:\n",
    "    # This block will run when excetion occur\n",
    "    print(\"Exception Caught : \",e)\n",
    "    \n",
    "print(\"bye\")"
   ]
  },
  {
   "cell_type": "code",
   "execution_count": 12,
   "id": "833383b3",
   "metadata": {},
   "outputs": [
    {
     "name": "stdout",
     "output_type": "stream",
     "text": [
      "Enter the value of A : 10\n",
      "Enter the value of B : 0\n",
      "Exception Caught :  division by zero\n",
      "bye\n"
     ]
    }
   ],
   "source": [
    "# Second atempt with error\n",
    "try:\n",
    "    # The code which is written try block can be occur error at runtime\n",
    "    a = int(input(\"Enter the value of A : \"))\n",
    "    b = int(input(\"Enter the value of B : \"))\n",
    "\n",
    "    c = a/b\n",
    "    print(\"Answer : \",c)\n",
    "except Exception as e:\n",
    "    # This block will run when excetion occur\n",
    "    print(\"Exception Caught : \",e)\n",
    "    \n",
    "print(\"bye\")"
   ]
  },
  {
   "cell_type": "markdown",
   "id": "3a8c30d1",
   "metadata": {},
   "source": [
    "## Many Exception"
   ]
  },
  {
   "cell_type": "code",
   "execution_count": 13,
   "id": "7d8be688",
   "metadata": {},
   "outputs": [
    {
     "name": "stdout",
     "output_type": "stream",
     "text": [
      "Variable is not define\n"
     ]
    }
   ],
   "source": [
    "# We have not define variable X\n",
    "try:\n",
    "    print(x)\n",
    "except NameError:\n",
    "    print(\"Variable is not define\")\n",
    "except:\n",
    "    print(\"Exception Caught\")"
   ]
  },
  {
   "cell_type": "markdown",
   "id": "ca56aa3e",
   "metadata": {},
   "source": [
    "### How to use else with except"
   ]
  },
  {
   "cell_type": "code",
   "execution_count": 14,
   "id": "f273eaf3",
   "metadata": {},
   "outputs": [
    {
     "name": "stdout",
     "output_type": "stream",
     "text": [
      "Hello\n",
      "Nothing went wrong\n"
     ]
    }
   ],
   "source": [
    "# with no error\n",
    "try:\n",
    "    print(\"Hello\")\n",
    "except:\n",
    "    print(\"something went wrong\")\n",
    "else:\n",
    "    print(\"Nothing went wrong\")"
   ]
  },
  {
   "cell_type": "code",
   "execution_count": 15,
   "id": "2276a4e7",
   "metadata": {},
   "outputs": [
    {
     "name": "stdout",
     "output_type": "stream",
     "text": [
      "something went wrong\n"
     ]
    }
   ],
   "source": [
    "# with error\n",
    "try:\n",
    "    print(x)\n",
    "except:\n",
    "    print(\"something went wrong\")\n",
    "else:\n",
    "    print(\"Nothing went wrong\")"
   ]
  },
  {
   "cell_type": "markdown",
   "id": "9149e2ed",
   "metadata": {},
   "source": [
    "## Finally Block"
   ]
  },
  {
   "cell_type": "code",
   "execution_count": 17,
   "id": "a576fb1f",
   "metadata": {},
   "outputs": [
    {
     "name": "stdout",
     "output_type": "stream",
     "text": [
      "Hello\n",
      "Finally Block\n"
     ]
    }
   ],
   "source": [
    "# The block which run compulsory if error occurs or not\n",
    "# with no error\n",
    "try:\n",
    "    print(\"Hello\")\n",
    "except:\n",
    "    print(\"Something went wrong\")\n",
    "finally:\n",
    "    print(\"Finally Block\")"
   ]
  },
  {
   "cell_type": "code",
   "execution_count": 18,
   "id": "5f60c8a7",
   "metadata": {},
   "outputs": [
    {
     "name": "stdout",
     "output_type": "stream",
     "text": [
      "Something went wrong\n",
      "Finally Block\n"
     ]
    }
   ],
   "source": [
    "# with error\n",
    "# we use when we need to close particular thing\n",
    "try:\n",
    "    print(x)\n",
    "except:\n",
    "    print(\"Something went wrong\")\n",
    "finally:\n",
    "    print(\"Finally Block\")"
   ]
  },
  {
   "cell_type": "markdown",
   "id": "0170fd04",
   "metadata": {},
   "source": [
    "## User Define Exception"
   ]
  },
  {
   "cell_type": "code",
   "execution_count": 20,
   "id": "a7e5125b",
   "metadata": {},
   "outputs": [
    {
     "ename": "MyException",
     "evalue": "Somthing went wrong",
     "output_type": "error",
     "traceback": [
      "\u001b[1;31m---------------------------------------------------------------------------\u001b[0m",
      "\u001b[1;31mMyException\u001b[0m                               Traceback (most recent call last)",
      "Cell \u001b[1;32mIn[20], line 6\u001b[0m\n\u001b[0;32m      4\u001b[0m c \u001b[38;5;241m=\u001b[39m \u001b[38;5;241m25\u001b[39m\n\u001b[0;32m      5\u001b[0m \u001b[38;5;28;01mif\u001b[39;00m c\u001b[38;5;241m>\u001b[39m\u001b[38;5;241m5\u001b[39m:\n\u001b[1;32m----> 6\u001b[0m     \u001b[38;5;28;01mraise\u001b[39;00m MyException(\u001b[38;5;124m\"\u001b[39m\u001b[38;5;124mSomthing went wrong\u001b[39m\u001b[38;5;124m\"\u001b[39m)\n",
      "\u001b[1;31mMyException\u001b[0m: Somthing went wrong"
     ]
    }
   ],
   "source": [
    "class MyException(Exception):\n",
    "    pass\n",
    "\n",
    "c = 25\n",
    "if c>5:\n",
    "    raise MyException(\"Somthing went wrong\")\n",
    "# use raise keyword & class name\n",
    "# it prints your customize msg (\"somthing went wrong\")"
   ]
  },
  {
   "cell_type": "code",
   "execution_count": null,
   "id": "17168791",
   "metadata": {},
   "outputs": [],
   "source": []
  }
 ],
 "metadata": {
  "kernelspec": {
   "display_name": "Python 3 (ipykernel)",
   "language": "python",
   "name": "python3"
  },
  "language_info": {
   "codemirror_mode": {
    "name": "ipython",
    "version": 3
   },
   "file_extension": ".py",
   "mimetype": "text/x-python",
   "name": "python",
   "nbconvert_exporter": "python",
   "pygments_lexer": "ipython3",
   "version": "3.11.5"
  }
 },
 "nbformat": 4,
 "nbformat_minor": 5
}

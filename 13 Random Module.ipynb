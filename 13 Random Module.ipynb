{
 "cells": [
  {
   "cell_type": "markdown",
   "id": "e730e14f",
   "metadata": {},
   "source": [
    "# Random Module"
   ]
  },
  {
   "cell_type": "markdown",
   "id": "35831826",
   "metadata": {},
   "source": [
    "Python provide multiple inbuilt function that are used to choose or generate random number by using random module."
   ]
  },
  {
   "cell_type": "markdown",
   "id": "67f2e4fb",
   "metadata": {},
   "source": [
    "## Import Random"
   ]
  },
  {
   "cell_type": "code",
   "execution_count": 2,
   "id": "9ea285d5",
   "metadata": {},
   "outputs": [],
   "source": [
    "# from random import functionname\n",
    "\n",
    "# import random"
   ]
  },
  {
   "cell_type": "markdown",
   "id": "2b165167",
   "metadata": {},
   "source": [
    "## choice()"
   ]
  },
  {
   "cell_type": "markdown",
   "id": "68e5db2d",
   "metadata": {},
   "source": [
    "choice () is inbuilt function of random module, which is used to return random number from list, tuple, set."
   ]
  },
  {
   "cell_type": "code",
   "execution_count": 9,
   "id": "6b10ef56",
   "metadata": {},
   "outputs": [
    {
     "name": "stdout",
     "output_type": "stream",
     "text": [
      "7\n"
     ]
    }
   ],
   "source": [
    "from random import choice # need to import first\n",
    "l1 = [1,2,3,4,5,6,7]\n",
    "print(choice(l1))"
   ]
  },
  {
   "cell_type": "markdown",
   "id": "20bb4dad",
   "metadata": {},
   "source": [
    "## Randit()"
   ]
  },
  {
   "cell_type": "markdown",
   "id": "9cfd935b",
   "metadata": {},
   "source": [
    "randint() is built function of random module, which is used to generate random number from particular given range"
   ]
  },
  {
   "cell_type": "code",
   "execution_count": 10,
   "id": "777759e8",
   "metadata": {},
   "outputs": [
    {
     "name": "stdout",
     "output_type": "stream",
     "text": [
      "your otp :  4200\n"
     ]
    }
   ],
   "source": [
    "from random import randint\n",
    "\n",
    "otp = randint(1000,9999)\n",
    "print(\"your otp : \",otp)"
   ]
  },
  {
   "cell_type": "markdown",
   "id": "72083ada",
   "metadata": {},
   "source": [
    "## Shuffle()"
   ]
  },
  {
   "cell_type": "markdown",
   "id": "6bb3159e",
   "metadata": {},
   "source": [
    "shuffle() is inbuilt function of random module, which is used to shuffle a value of list."
   ]
  },
  {
   "cell_type": "code",
   "execution_count": 13,
   "id": "c9504829",
   "metadata": {},
   "outputs": [
    {
     "name": "stdout",
     "output_type": "stream",
     "text": [
      "['Mango', 'Apple', 'Banana']\n"
     ]
    }
   ],
   "source": [
    "from random import shuffle\n",
    "\n",
    "l2 = [\"Apple\",\"Banana\",\"Mango\"]\n",
    "shuffle(l2)\n",
    "print(l2)  # it suffles as many time as you run"
   ]
  },
  {
   "cell_type": "code",
   "execution_count": null,
   "id": "b77a6c41",
   "metadata": {},
   "outputs": [],
   "source": []
  }
 ],
 "metadata": {
  "kernelspec": {
   "display_name": "Python 3 (ipykernel)",
   "language": "python",
   "name": "python3"
  },
  "language_info": {
   "codemirror_mode": {
    "name": "ipython",
    "version": 3
   },
   "file_extension": ".py",
   "mimetype": "text/x-python",
   "name": "python",
   "nbconvert_exporter": "python",
   "pygments_lexer": "ipython3",
   "version": "3.11.5"
  }
 },
 "nbformat": 4,
 "nbformat_minor": 5
}

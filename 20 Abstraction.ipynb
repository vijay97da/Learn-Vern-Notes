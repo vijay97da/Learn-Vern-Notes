{
 "cells": [
  {
   "cell_type": "markdown",
   "id": "b25d5cb2",
   "metadata": {},
   "source": [
    "# Abstraction"
   ]
  },
  {
   "cell_type": "markdown",
   "id": "553b61f2",
   "metadata": {},
   "source": [
    "#### What is Abstraction ?"
   ]
  },
  {
   "cell_type": "markdown",
   "id": "72df998c",
   "metadata": {},
   "source": [
    "A class that consists of one or more abstract method is called the abtract class.        \n",
    "Abstractg methods do not contain their implementation.       \n",
    "Abstract class can be inherited by the subclass and abtract method gets its definition in the subclass."
   ]
  },
  {
   "cell_type": "markdown",
   "id": "f733a955",
   "metadata": {},
   "source": [
    "#### Abstraction is used hide particular data"
   ]
  },
  {
   "cell_type": "markdown",
   "id": "8d377153",
   "metadata": {},
   "source": [
    "#### How to create Abstract Method and Class ?"
   ]
  },
  {
   "cell_type": "code",
   "execution_count": 1,
   "id": "57cb1b9b",
   "metadata": {},
   "outputs": [],
   "source": [
    "# there is one obstract class with one abstract method:\n",
    "\n",
    "# class AbstractClass: # Abstract Class\n",
    "#    def abstractmethod(self): # Abstract Method\n",
    "#        pass"
   ]
  },
  {
   "cell_type": "code",
   "execution_count": 2,
   "id": "c0287646",
   "metadata": {},
   "outputs": [
    {
     "name": "stdout",
     "output_type": "stream",
     "text": [
      "SBI Interest is 5%\n",
      "HDFC Interest is 2%\n"
     ]
    }
   ],
   "source": [
    "class RBI: # Abstract class\n",
    "    def Interest(self): # Abstract method\n",
    "        pass\n",
    "\n",
    "class SBI(RBI): # Child class \n",
    "    def Interest(self): # RBI Interest implements here\n",
    "        print(\"SBI Interest is 5%\")\n",
    "        \n",
    "class HDFC(RBI): # Child class\n",
    "    def Interest(self): # RBI Interest implements here\n",
    "        print(\"HDFC Interest is 2%\")\n",
    "        \n",
    "# Creating an object of class SBI\n",
    "s = SBI()\n",
    "\n",
    "# Creating an object of class HDFC \n",
    "h = HDFC()\n",
    "\n",
    "s.Interest() # SBI Interest method called\n",
    "h.Interest() # HDFC Interest method called"
   ]
  },
  {
   "cell_type": "code",
   "execution_count": 3,
   "id": "30712705",
   "metadata": {},
   "outputs": [
    {
     "name": "stdout",
     "output_type": "stream",
     "text": [
      " I can bark\n",
      " I can hisss\n"
     ]
    }
   ],
   "source": [
    "class Animal: # Abstract class/ Parent class\n",
    "    def move(self): # Abstract method\n",
    "        pass\n",
    "    \n",
    "class Dog(Animal): # child class\n",
    "    def move(self): # class Animal Implement method here\n",
    "        print(\" I can bark\")\n",
    "        \n",
    "class Snake(Animal): # child class\n",
    "    def move(self):\n",
    "        print(\" I can hisss\")\n",
    "        \n",
    "# Creating an object of class Dog\n",
    "d = Dog()\n",
    "\n",
    "# Creating an object of class Snake\n",
    "s = Snake()\n",
    "\n",
    "\n",
    "d.move()\n",
    "s.move()"
   ]
  },
  {
   "cell_type": "code",
   "execution_count": null,
   "id": "2c833f00",
   "metadata": {},
   "outputs": [],
   "source": []
  }
 ],
 "metadata": {
  "kernelspec": {
   "display_name": "Python 3 (ipykernel)",
   "language": "python",
   "name": "python3"
  },
  "language_info": {
   "codemirror_mode": {
    "name": "ipython",
    "version": 3
   },
   "file_extension": ".py",
   "mimetype": "text/x-python",
   "name": "python",
   "nbconvert_exporter": "python",
   "pygments_lexer": "ipython3",
   "version": "3.11.5"
  }
 },
 "nbformat": 4,
 "nbformat_minor": 5
}

{
 "cells": [
  {
   "cell_type": "markdown",
   "id": "92284f79",
   "metadata": {},
   "source": [
    "# Looping Statement"
   ]
  },
  {
   "cell_type": "markdown",
   "id": "692442ef",
   "metadata": {},
   "source": [
    "### What is Looping Statement ?"
   ]
  },
  {
   "cell_type": "markdown",
   "id": "eeb7df43",
   "metadata": {},
   "source": [
    "Loop control statement change execution from its normal sequence. When execution leaves a scope, all automatic objects that were created in that scope are destroyed."
   ]
  },
  {
   "cell_type": "markdown",
   "id": "771eed6d",
   "metadata": {},
   "source": [
    "1) While Loop\n",
    "2) For Loop\n",
    "3) Nested for Loop"
   ]
  },
  {
   "cell_type": "markdown",
   "id": "6bbe7299",
   "metadata": {},
   "source": [
    "### 1) While Loop"
   ]
  },
  {
   "cell_type": "markdown",
   "id": "8ae5cde3",
   "metadata": {},
   "source": [
    "#### Entry Control Loop"
   ]
  },
  {
   "cell_type": "code",
   "execution_count": 1,
   "id": "47e0af28",
   "metadata": {},
   "outputs": [],
   "source": [
    "# While condition:\n",
    "#     Statement\n",
    "    \n",
    "# Note : Indentation is compulsory."
   ]
  },
  {
   "cell_type": "code",
   "execution_count": 3,
   "id": "5499a30c",
   "metadata": {},
   "outputs": [
    {
     "name": "stdout",
     "output_type": "stream",
     "text": [
      "N : 5\n",
      "Sum :  5\n",
      "Sum :  9\n",
      "Sum :  12\n",
      "Sum :  14\n",
      "Sum :  15\n",
      "bye\n"
     ]
    }
   ],
   "source": [
    "# 5,9,12,15,19\n",
    "\n",
    "sum = 0\n",
    "n = int(input(\"N : \"))\n",
    "while n>0:\n",
    "    sum = sum+n\n",
    "    n-=1\n",
    "    print(\"Sum : \",sum)\n",
    "print(\"bye\")"
   ]
  },
  {
   "cell_type": "markdown",
   "id": "a92c3dff",
   "metadata": {},
   "source": [
    "### While Loop with Else Part"
   ]
  },
  {
   "cell_type": "code",
   "execution_count": 4,
   "id": "6480937a",
   "metadata": {},
   "outputs": [
    {
     "name": "stdout",
     "output_type": "stream",
     "text": [
      "N : 5\n",
      "Sum :  5\n",
      "Sum :  9\n",
      "Sum :  12\n",
      "Sum :  14\n",
      "Sum :  15\n",
      "Loop Error\n",
      "bye\n"
     ]
    }
   ],
   "source": [
    "# 5,9,12,15,19\n",
    "\n",
    "sum = 0\n",
    "n = int(input(\"N : \"))\n",
    "while n>0:\n",
    "    sum = sum+n\n",
    "    n-=1\n",
    "    print(\"Sum : \",sum)\n",
    "else:\n",
    "    print(\"Loop Error\")\n",
    "print(\"bye\")"
   ]
  },
  {
   "cell_type": "markdown",
   "id": "9a660f7c",
   "metadata": {},
   "source": [
    "### 2) For Loop"
   ]
  },
  {
   "cell_type": "code",
   "execution_count": 2,
   "id": "8ce8974f",
   "metadata": {},
   "outputs": [],
   "source": [
    "# for iterator_var in sequence:\n",
    "#     Statement"
   ]
  },
  {
   "cell_type": "markdown",
   "id": "2c932f6e",
   "metadata": {},
   "source": [
    "### Simple For Loop"
   ]
  },
  {
   "cell_type": "code",
   "execution_count": 6,
   "id": "4aabf981",
   "metadata": {},
   "outputs": [
    {
     "name": "stdout",
     "output_type": "stream",
     "text": [
      "python\n",
      "java\n",
      "angular\n",
      "graphic\n"
     ]
    }
   ],
   "source": [
    "word = [\"python\",\"java\",\"angular\",\"graphic\"]\n",
    "\n",
    "for i in word:\n",
    "    print(i)"
   ]
  },
  {
   "cell_type": "code",
   "execution_count": 7,
   "id": "adf34d68",
   "metadata": {},
   "outputs": [
    {
     "name": "stdout",
     "output_type": "stream",
     "text": [
      "python = 6\n",
      "java = 4\n",
      "angular = 7\n",
      "graphic = 7\n"
     ]
    }
   ],
   "source": [
    "word = [\"python\",\"java\",\"angular\",\"graphic\"]\n",
    "\n",
    "for i in word:\n",
    "    print(i,\"=\",len(i)) #lenth of the word"
   ]
  },
  {
   "cell_type": "markdown",
   "id": "f6c7b45f",
   "metadata": {},
   "source": [
    "### Nested For Loop"
   ]
  },
  {
   "cell_type": "code",
   "execution_count": 10,
   "id": "de7e8d81",
   "metadata": {},
   "outputs": [
    {
     "name": "stdout",
     "output_type": "stream",
     "text": [
      "*\n",
      "**\n",
      "***\n",
      "****\n",
      "*****\n"
     ]
    }
   ],
   "source": [
    "# *\n",
    "# **\n",
    "# ***\n",
    "# ****\n",
    "# *****\n",
    "\n",
    "# range(Start point, End Point, Step(jump) Point)\n",
    "\n",
    "for i in range(1,6):\n",
    "    for j in range(i):\n",
    "        print(\"*\",end=\"\")\n",
    "    print()"
   ]
  },
  {
   "cell_type": "code",
   "execution_count": 11,
   "id": "102a3d1a",
   "metadata": {},
   "outputs": [
    {
     "name": "stdout",
     "output_type": "stream",
     "text": [
      "*****\n",
      "****\n",
      "***\n",
      "**\n",
      "*\n"
     ]
    }
   ],
   "source": [
    "for i in range(5,0,-1):\n",
    "    for j in range(i):\n",
    "        print(\"*\",end=\"\")\n",
    "    print()"
   ]
  },
  {
   "cell_type": "code",
   "execution_count": null,
   "id": "b3e13174",
   "metadata": {},
   "outputs": [],
   "source": []
  }
 ],
 "metadata": {
  "kernelspec": {
   "display_name": "Python 3 (ipykernel)",
   "language": "python",
   "name": "python3"
  },
  "language_info": {
   "codemirror_mode": {
    "name": "ipython",
    "version": 3
   },
   "file_extension": ".py",
   "mimetype": "text/x-python",
   "name": "python",
   "nbconvert_exporter": "python",
   "pygments_lexer": "ipython3",
   "version": "3.11.5"
  }
 },
 "nbformat": 4,
 "nbformat_minor": 5
}

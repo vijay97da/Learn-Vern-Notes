{
 "cells": [
  {
   "cell_type": "markdown",
   "id": "9550a800",
   "metadata": {},
   "source": [
    "# Regular Expression"
   ]
  },
  {
   "cell_type": "markdown",
   "id": "3e024f6b",
   "metadata": {},
   "source": [
    "#### What is Regualr Expression ?"
   ]
  },
  {
   "cell_type": "markdown",
   "id": "e8aa69d8",
   "metadata": {},
   "source": [
    "A Regualr Expression (RegEx) is a sequence of characters that defines a search pattern.      \n",
    "For using Regular Expression import re module."
   ]
  },
  {
   "cell_type": "markdown",
   "id": "bc534fe8",
   "metadata": {},
   "source": [
    "There are 2 type of Function :\n",
    "1) Match Function\n",
    "2) Search Function"
   ]
  },
  {
   "cell_type": "markdown",
   "id": "681914db",
   "metadata": {},
   "source": [
    "## Match Function"
   ]
  },
  {
   "cell_type": "markdown",
   "id": "6ef35ef4",
   "metadata": {},
   "source": [
    "What is Match Function ?\n",
    "This function determines if the RE matches at the beginning of the string.    \n",
    "Syntax : re.match(pattern,string)       \n",
    "Pattern : This the regular expression to be matched.   \n",
    "String : This is the string, which would be searched to match the pattern at the beginning of string."
   ]
  },
  {
   "cell_type": "code",
   "execution_count": 1,
   "id": "01f1fc30",
   "metadata": {},
   "outputs": [
    {
     "name": "stdout",
     "output_type": "stream",
     "text": [
      "<re.Match object; span=(0, 3), match='abc'>\n"
     ]
    }
   ],
   "source": [
    "# Import re module first\n",
    "# Note:- ^ power sign or begining sign\n",
    "\n",
    "import re\n",
    "\n",
    "pattern = r\"^abc\"\n",
    "mystring = \"abcdef\"\n",
    "\n",
    "x = re.match(pattern,mystring)\n",
    "print(x)"
   ]
  },
  {
   "cell_type": "code",
   "execution_count": 2,
   "id": "87e9beee",
   "metadata": {},
   "outputs": [
    {
     "name": "stdout",
     "output_type": "stream",
     "text": [
      "None\n"
     ]
    }
   ],
   "source": [
    "pattern = r\"^abc\"\n",
    "mystring = \"acdef\" # run without b\n",
    "\n",
    "x = re.match(pattern,mystring) \n",
    "print(x)\n",
    "\n",
    "# its not matching right now"
   ]
  },
  {
   "cell_type": "code",
   "execution_count": 3,
   "id": "f53ba790",
   "metadata": {},
   "outputs": [
    {
     "name": "stdout",
     "output_type": "stream",
     "text": [
      "<re.Match object; span=(0, 4), match='abcd'>\n"
     ]
    }
   ],
   "source": [
    "pattern = r\"^abcd\" # now we add d into it\n",
    "mystring = \"abcdef\"\n",
    "\n",
    "x = re.match(pattern,mystring)\n",
    "print(x)\n",
    "\n",
    "# now it matchs 4 characters"
   ]
  },
  {
   "cell_type": "markdown",
   "id": "187f43ad",
   "metadata": {},
   "source": [
    "## Search Function"
   ]
  },
  {
   "cell_type": "markdown",
   "id": "8a8134fc",
   "metadata": {},
   "source": [
    "#### What is Search Function ?"
   ]
  },
  {
   "cell_type": "markdown",
   "id": "a027d2b7",
   "metadata": {},
   "source": [
    "Scan through a string, looking for any location where this RE matches.        \n",
    "Syntax : re.search(pattern,string)      \n",
    "pattern : This the regular expression to be matched.      \n",
    "String : This is the string, which would be searched to match the pattern at the beginning of string."
   ]
  },
  {
   "cell_type": "code",
   "execution_count": 4,
   "id": "02facacf",
   "metadata": {},
   "outputs": [
    {
     "name": "stdout",
     "output_type": "stream",
     "text": [
      "The first whitespace :  <re.Match object; span=(2, 3), match=' '>\n"
     ]
    }
   ],
   "source": [
    "# Import re module first\n",
    "\n",
    "import re\n",
    "\n",
    "txt = \"We are learning python\"\n",
    "x = re.search(\"\\s\",txt) # \\s for white space\n",
    "# This expression is written for searching whitespace or blank space\n",
    "\n",
    "print(\"The first whitespace : \",x)"
   ]
  },
  {
   "cell_type": "code",
   "execution_count": 6,
   "id": "1754d2b5",
   "metadata": {},
   "outputs": [
    {
     "name": "stdout",
     "output_type": "stream",
     "text": [
      "The first whitespace :  2\n"
     ]
    }
   ],
   "source": [
    "txt = \"We are learning python\"\n",
    "x = re.search(\"\\s\",txt) # \\s for white space\n",
    "# This expression is written for searching whitespace or blank space\n",
    "\n",
    "print(\"The first whitespace : \",x.start()) # for exact starting position of whitespace"
   ]
  },
  {
   "cell_type": "code",
   "execution_count": 7,
   "id": "ef368a2e",
   "metadata": {},
   "outputs": [
    {
     "name": "stdout",
     "output_type": "stream",
     "text": [
      "None\n"
     ]
    }
   ],
   "source": [
    "import re\n",
    "\n",
    "text = \"The rain in Gujrat\"\n",
    "x = re.search(\"Ahmedabad\",txt)\n",
    "print(x)\n",
    "\n",
    "# Ans is None just because we dont put ahmadabad here"
   ]
  },
  {
   "cell_type": "markdown",
   "id": "9522c881",
   "metadata": {},
   "source": [
    "## Replace Function"
   ]
  },
  {
   "cell_type": "markdown",
   "id": "34377c10",
   "metadata": {},
   "source": [
    "#### What is Replace Function ?"
   ]
  },
  {
   "cell_type": "markdown",
   "id": "49b198bb",
   "metadata": {},
   "source": [
    "Python regex offers sub() the subn() methods to seach and replace pattern in a string.      \n",
    "Using these methods we can replace one or more occurrences of a regex pattern in the target string with a substitute string.    \n",
    "Syntax : re.sub(pattern,repl,string,)"
   ]
  },
  {
   "cell_type": "code",
   "execution_count": 9,
   "id": "e10da1ca",
   "metadata": {},
   "outputs": [
    {
     "name": "stdout",
     "output_type": "stream",
     "text": [
      "Before Replace :  Learnvern provide free online training\n",
      "After Replace :  Learnvern python free online training\n"
     ]
    }
   ],
   "source": [
    "import re\n",
    "\n",
    "str1 = \"Learnvern provide free online training\"\n",
    "print(\"Before Replace : \",str1)\n",
    "\n",
    "# After replace the provide with python\n",
    "result = re.sub(r\"provide\",\"python\",str1)\n",
    "print(\"After Replace : \",result)"
   ]
  },
  {
   "cell_type": "code",
   "execution_count": 11,
   "id": "5a1b436b",
   "metadata": {},
   "outputs": [
    {
     "name": "stdout",
     "output_type": "stream",
     "text": [
      "Before Replace :  Learnvern Provide Free Online Training\n",
      "After Replace :  L00000000 P000000 F000 O00000 T0000000\n"
     ]
    }
   ],
   "source": [
    "import re \n",
    "str1 = \"Learnvern Provide Free Online Training\"\n",
    "print(\"Before Replace : \",str1)\n",
    "\n",
    "# Replace Where there is a small word, it sould print zero.\n",
    "result = re.sub(r\"[a-z]\",\"0\",str1)\n",
    "print(\"After Replace : \",result)"
   ]
  },
  {
   "cell_type": "markdown",
   "id": "91ff5be3",
   "metadata": {},
   "source": [
    "#### Some Difference Between Match and Search"
   ]
  },
  {
   "cell_type": "markdown",
   "id": "81468f03",
   "metadata": {},
   "source": [
    "Match :      \n",
    "Both return the first match of a substring found in the string, but re.match() searches only from the beginning of      \n",
    "the string and return match object if found.     \n",
    "Search :       \n",
    "While re.search() searches for the whole string even if the string contains multi-lines and tries to find a match of the     \n",
    "substring in all the lines of string."
   ]
  },
  {
   "cell_type": "code",
   "execution_count": null,
   "id": "a99671f8",
   "metadata": {},
   "outputs": [],
   "source": []
  }
 ],
 "metadata": {
  "kernelspec": {
   "display_name": "Python 3 (ipykernel)",
   "language": "python",
   "name": "python3"
  },
  "language_info": {
   "codemirror_mode": {
    "name": "ipython",
    "version": 3
   },
   "file_extension": ".py",
   "mimetype": "text/x-python",
   "name": "python",
   "nbconvert_exporter": "python",
   "pygments_lexer": "ipython3",
   "version": "3.11.5"
  }
 },
 "nbformat": 4,
 "nbformat_minor": 5
}

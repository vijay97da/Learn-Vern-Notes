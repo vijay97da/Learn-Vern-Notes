{
 "cells": [
  {
   "cell_type": "markdown",
   "id": "a07f08ef",
   "metadata": {},
   "source": [
    "# python basic syntax"
   ]
  },
  {
   "cell_type": "markdown",
   "id": "88d1200b",
   "metadata": {},
   "source": [
    "## Comments in Python"
   ]
  },
  {
   "cell_type": "markdown",
   "id": "c4f06697",
   "metadata": {},
   "source": [
    "1) Comments is used in python to make code readable.\n",
    "2) Comments make code easy to understand for anyone.\n",
    "3) Comments are also used when code testing is going.\n",
    "4) Comments represented by '#' in python."
   ]
  },
  {
   "cell_type": "markdown",
   "id": "5e8a57be",
   "metadata": {},
   "source": [
    "### types of Comments"
   ]
  },
  {
   "cell_type": "markdown",
   "id": "9833cfc8",
   "metadata": {},
   "source": [
    "There are 2 types of Comments in python :\n",
    "1) Single Line Comments\n",
    "2) Multi-line comments\n",
    "    "
   ]
  },
  {
   "cell_type": "markdown",
   "id": "7294a8f3",
   "metadata": {},
   "source": [
    "to apply multiline comments use this shortcut keys == ctrl + question mark or ctrl /"
   ]
  },
  {
   "cell_type": "code",
   "execution_count": 3,
   "id": "85d7ab2a",
   "metadata": {},
   "outputs": [],
   "source": [
    "#vijay is of the best data analyst in maharastra"
   ]
  },
  {
   "cell_type": "code",
   "execution_count": 4,
   "id": "a51641ec",
   "metadata": {},
   "outputs": [],
   "source": [
    "# vijay is also known for his personality and expertise in data field\n",
    "# he is very hardworking and also a smart person"
   ]
  },
  {
   "cell_type": "markdown",
   "id": "5000f8a0",
   "metadata": {},
   "source": [
    "## Basic Function"
   ]
  },
  {
   "cell_type": "markdown",
   "id": "0e097fdd",
   "metadata": {},
   "source": [
    "### Print () : This function is used to print the values in python.\n"
   ]
  },
  {
   "cell_type": "code",
   "execution_count": 3,
   "id": "6663e66a",
   "metadata": {},
   "outputs": [
    {
     "name": "stdout",
     "output_type": "stream",
     "text": [
      "VIJAY\n"
     ]
    }
   ],
   "source": [
    "print(\"VIJAY\")"
   ]
  },
  {
   "cell_type": "code",
   "execution_count": 6,
   "id": "851fda40",
   "metadata": {},
   "outputs": [],
   "source": [
    "name = \"Vijay Kshirsager\""
   ]
  },
  {
   "cell_type": "code",
   "execution_count": 7,
   "id": "0301f985",
   "metadata": {},
   "outputs": [
    {
     "name": "stdout",
     "output_type": "stream",
     "text": [
      "Vijay Kshirsager\n"
     ]
    }
   ],
   "source": [
    "print(name)"
   ]
  },
  {
   "cell_type": "markdown",
   "id": "6cea05b3",
   "metadata": {},
   "source": [
    "### type (): This function is used to check the datatype of variable."
   ]
  },
  {
   "cell_type": "code",
   "execution_count": 31,
   "id": "1c72dcd6",
   "metadata": {},
   "outputs": [
    {
     "name": "stdout",
     "output_type": "stream",
     "text": [
      "<class 'set'>\n"
     ]
    }
   ],
   "source": [
    "print(type(vijay))"
   ]
  },
  {
   "cell_type": "code",
   "execution_count": 2,
   "id": "d57953f8",
   "metadata": {},
   "outputs": [
    {
     "name": "stdout",
     "output_type": "stream",
     "text": [
      "<class 'str'>\n",
      "<class 'int'>\n",
      "<class 'tuple'>\n",
      "<class 'list'>\n",
      "<class 'set'>\n",
      "<class 'dict'>\n",
      "<class 'float'>\n"
     ]
    }
   ],
   "source": [
    "b = \"python is easiest coding language\"\n",
    "print(type(b))\n",
    "\n",
    "c = 23\n",
    "print(type(c))\n",
    "\n",
    "d = (\"waddhamna\", 440023, 1.4)\n",
    "print(type(d))\n",
    "\n",
    "e = [\"waddhamna\", 440023, 1.4]\n",
    "print(type(e))\n",
    "\n",
    "f = {\"waddhamna\", 440023, 1.4}\n",
    "print(type(f))\n",
    "\n",
    "g = {\"waddhamma\" : 440023}\n",
    "print(type(g))\n",
    "\n",
    "h = 5.5\n",
    "print(type(h))"
   ]
  },
  {
   "cell_type": "markdown",
   "id": "78fe5562",
   "metadata": {},
   "source": [
    "### Input() : this function is used to take input from user at runtime"
   ]
  },
  {
   "cell_type": "code",
   "execution_count": 7,
   "id": "6b999bc8",
   "metadata": {},
   "outputs": [
    {
     "name": "stdout",
     "output_type": "stream",
     "text": [
      "Enter the value a A :- 19\n",
      "A :  19\n"
     ]
    }
   ],
   "source": [
    "ab = input(\"Enter the value a A :- \")\n",
    "print(\"A : \",ab)"
   ]
  },
  {
   "cell_type": "markdown",
   "id": "cf3a453c",
   "metadata": {},
   "source": [
    "# Keywords"
   ]
  },
  {
   "cell_type": "markdown",
   "id": "f7469b7e",
   "metadata": {},
   "source": [
    "Keywords are the reserved words in Python. We cannot use a keyword as a variable name, function name or any other identifier."
   ]
  },
  {
   "cell_type": "markdown",
   "id": "24c3c9ed",
   "metadata": {},
   "source": [
    "### List of Keywords"
   ]
  },
  {
   "cell_type": "markdown",
   "id": "d8fc78c3",
   "metadata": {},
   "source": [
    "#### keywords in Python programming language"
   ]
  },
  {
   "cell_type": "code",
   "execution_count": 8,
   "id": "6a73d81c",
   "metadata": {},
   "outputs": [
    {
     "ename": "SyntaxError",
     "evalue": "invalid syntax (2800824349.py, line 2)",
     "output_type": "error",
     "traceback": [
      "\u001b[1;36m  Cell \u001b[1;32mIn[8], line 2\u001b[1;36m\u001b[0m\n\u001b[1;33m    await\u001b[0m\n\u001b[1;37m         ^\u001b[0m\n\u001b[1;31mSyntaxError\u001b[0m\u001b[1;31m:\u001b[0m invalid syntax\n"
     ]
    }
   ],
   "source": [
    "False\n",
    "await\n",
    "else\n",
    "import\n",
    "pass\n",
    "None\n",
    "break\n",
    "except\n",
    "in \n",
    "raise\n",
    "True\n",
    "class\n",
    "finally\n",
    "is\n",
    "return\n",
    "and\n",
    "continue\n",
    "for\n",
    "lambda\n",
    "try\n",
    "as\n",
    "def\n",
    "from\n",
    "nonlocal\n",
    "while\n",
    "assert\n",
    "del\n",
    "global\n",
    "not\n",
    "with\n",
    "async\n",
    "elif\n",
    "if\n",
    "or\n",
    "yield\n",
    "\n",
    "# those keywords name are already reserved\n",
    "# you cannot use as a variable name or function name"
   ]
  },
  {
   "cell_type": "markdown",
   "id": "7b5c4b03",
   "metadata": {},
   "source": [
    "How get keywords list in python"
   ]
  },
  {
   "cell_type": "code",
   "execution_count": 9,
   "id": "efaeac4b",
   "metadata": {},
   "outputs": [
    {
     "name": "stdout",
     "output_type": "stream",
     "text": [
      "\n",
      "Here is a list of the Python keywords.  Enter any keyword to get more help.\n",
      "\n",
      "False               class               from                or\n",
      "None                continue            global              pass\n",
      "True                def                 if                  raise\n",
      "and                 del                 import              return\n",
      "as                  elif                in                  try\n",
      "assert              else                is                  while\n",
      "async               except              lambda              with\n",
      "await               finally             nonlocal            yield\n",
      "break               for                 not                 \n",
      "\n"
     ]
    }
   ],
   "source": [
    "help(\"keywords\") "
   ]
  },
  {
   "cell_type": "code",
   "execution_count": null,
   "id": "97e48f7f",
   "metadata": {},
   "outputs": [],
   "source": []
  }
 ],
 "metadata": {
  "kernelspec": {
   "display_name": "Python 3 (ipykernel)",
   "language": "python",
   "name": "python3"
  },
  "language_info": {
   "codemirror_mode": {
    "name": "ipython",
    "version": 3
   },
   "file_extension": ".py",
   "mimetype": "text/x-python",
   "name": "python",
   "nbconvert_exporter": "python",
   "pygments_lexer": "ipython3",
   "version": "3.11.5"
  }
 },
 "nbformat": 4,
 "nbformat_minor": 5
}

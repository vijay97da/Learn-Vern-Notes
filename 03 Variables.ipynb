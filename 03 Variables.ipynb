{
 "cells": [
  {
   "cell_type": "markdown",
   "id": "3c2ddd2b",
   "metadata": {},
   "source": [
    "# Variables"
   ]
  },
  {
   "cell_type": "markdown",
   "id": "b26a342b",
   "metadata": {},
   "source": [
    "1) Variables are names to store some values.\n",
    "2) It can store integers, float, string, boolean, set, tuple, list and dictionary."
   ]
  },
  {
   "cell_type": "markdown",
   "id": "e5ebd3c5",
   "metadata": {},
   "source": [
    "### Rules of Variables:"
   ]
  },
  {
   "cell_type": "markdown",
   "id": "45517653",
   "metadata": {},
   "source": [
    "1) Variable should start with Alphabet only\n",
    "2) Variable name should not have whitespaces\n",
    "3) We cannot use datatype name as a varible name For Example (int = vijay)\n",
    "4) Variable name are significant (case sensetive kindaa)\n"
   ]
  },
  {
   "cell_type": "markdown",
   "id": "64c5ac3c",
   "metadata": {},
   "source": [
    "### 1) Assign Multiple Variables"
   ]
  },
  {
   "cell_type": "markdown",
   "id": "3ba424a2",
   "metadata": {},
   "source": [
    "Python allows multiple variable at a time.   \n",
    "Eg :    \n",
    "       x,y,z = \"Orange\",\"Mango\",\"Banana\""
   ]
  },
  {
   "cell_type": "markdown",
   "id": "9fed6c09",
   "metadata": {},
   "source": [
    "### 2) Concat Varibale"
   ]
  },
  {
   "cell_type": "markdown",
   "id": "4649a284",
   "metadata": {},
   "source": [
    "Python allows you to concat the variables using \"+\" sign.     \n",
    "(means if you want to combined variables just add + sign)    \n",
    "Eg :  \n",
    "\n",
    "    x = \"python\"\n",
    "    y = \"Programming\"\n",
    "    z = x+y\n",
    "    print(z)"
   ]
  },
  {
   "cell_type": "markdown",
   "id": "08400fd1",
   "metadata": {},
   "source": [
    "### 3) Printing Variables"
   ]
  },
  {
   "cell_type": "markdown",
   "id": "fbe35805",
   "metadata": {},
   "source": [
    "1) get input form user\n",
    "2) Uses of print function"
   ]
  },
  {
   "cell_type": "markdown",
   "id": "9e9e9e15",
   "metadata": {},
   "source": [
    "#### Creating a Variable"
   ]
  },
  {
   "cell_type": "code",
   "execution_count": 10,
   "id": "1072f952",
   "metadata": {},
   "outputs": [
    {
     "name": "stdout",
     "output_type": "stream",
     "text": [
      "10\n",
      "<class 'int'>\n",
      "10.5\n",
      "<class 'float'>\n",
      "python programming\n",
      "<class 'str'>\n",
      "[1, 3, 5, 7, 9]\n",
      "<class 'list'>\n",
      "(1, 3, 4, 5, 'vijay')\n",
      "<class 'tuple'>\n"
     ]
    }
   ],
   "source": [
    "# Integer value to the variable\n",
    "a = 10\n",
    "print(a)\n",
    "print(type(a))\n",
    "\n",
    "# Float value to the variable (point value also called floating value)\n",
    "b = 10.5\n",
    "print(b)\n",
    "print(type(b))\n",
    "\n",
    "# String value to the variable\n",
    "c = \"python programming\"\n",
    "print(c)\n",
    "print(type(c))\n",
    "\n",
    "# List store in vaiable\n",
    "l = [1,3,5,7,9]\n",
    "print(l)\n",
    "print(type(l))\n",
    "\n",
    "# Tuple store in variable\n",
    "t = (1,3,4,5,\"vijay\")\n",
    "print(t)\n",
    "print(type(t))"
   ]
  },
  {
   "cell_type": "markdown",
   "id": "5ca4b443",
   "metadata": {},
   "source": [
    "## Type Conversion or Type Casting"
   ]
  },
  {
   "cell_type": "markdown",
   "id": "c0710655",
   "metadata": {},
   "source": [
    "Converting from one datatype to another data type is called type convesion / type Casting"
   ]
  },
  {
   "cell_type": "code",
   "execution_count": 2,
   "id": "4c956253",
   "metadata": {},
   "outputs": [
    {
     "name": "stdout",
     "output_type": "stream",
     "text": [
      "Enter the value of A : 10\n",
      "A :  10\n",
      "<class 'str'>\n"
     ]
    }
   ],
   "source": [
    " a = input(\"Enter the value of A : \")\n",
    "print(\"A : \",a)\n",
    "print(type(a))"
   ]
  },
  {
   "cell_type": "code",
   "execution_count": 4,
   "id": "c476f1f9",
   "metadata": {},
   "outputs": [
    {
     "name": "stdout",
     "output_type": "stream",
     "text": [
      "Enter the value of b : 12\n",
      "12\n",
      "<class 'int'>\n"
     ]
    }
   ],
   "source": [
    "b = int(input(\"Enter the value of b : \")) # in this case we doing data typecasting\n",
    "print(b)\n",
    "print(type(b))"
   ]
  },
  {
   "cell_type": "code",
   "execution_count": 6,
   "id": "ad361d87",
   "metadata": {},
   "outputs": [
    {
     "name": "stdout",
     "output_type": "stream",
     "text": [
      "Enter the value of c : vijay\n"
     ]
    },
    {
     "ename": "ValueError",
     "evalue": "invalid literal for int() with base 10: 'vijay'",
     "output_type": "error",
     "traceback": [
      "\u001b[1;31m---------------------------------------------------------------------------\u001b[0m",
      "\u001b[1;31mValueError\u001b[0m                                Traceback (most recent call last)",
      "Cell \u001b[1;32mIn[6], line 1\u001b[0m\n\u001b[1;32m----> 1\u001b[0m c \u001b[38;5;241m=\u001b[39m \u001b[38;5;28mint\u001b[39m(\u001b[38;5;28minput\u001b[39m(\u001b[38;5;124m\"\u001b[39m\u001b[38;5;124mEnter the value of c : \u001b[39m\u001b[38;5;124m\"\u001b[39m)) \u001b[38;5;66;03m# in this case we doing data typecasting\u001b[39;00m\n\u001b[0;32m      2\u001b[0m \u001b[38;5;28mprint\u001b[39m(c)\n\u001b[0;32m      3\u001b[0m \u001b[38;5;28mprint\u001b[39m(\u001b[38;5;28mtype\u001b[39m(c))\n",
      "\u001b[1;31mValueError\u001b[0m: invalid literal for int() with base 10: 'vijay'"
     ]
    }
   ],
   "source": [
    "c = int(input(\"Enter the value of c : \")) # in this case we doing data typecasting\n",
    "print(c)\n",
    "print(type(c)) # Now we cannot put string value in it"
   ]
  },
  {
   "cell_type": "markdown",
   "id": "2447c67e",
   "metadata": {},
   "source": [
    "#### Note :- String data type that can't convert but in string we can use any data type"
   ]
  },
  {
   "cell_type": "code",
   "execution_count": null,
   "id": "4ba3d72b",
   "metadata": {},
   "outputs": [],
   "source": []
  }
 ],
 "metadata": {
  "kernelspec": {
   "display_name": "Python 3 (ipykernel)",
   "language": "python",
   "name": "python3"
  },
  "language_info": {
   "codemirror_mode": {
    "name": "ipython",
    "version": 3
   },
   "file_extension": ".py",
   "mimetype": "text/x-python",
   "name": "python",
   "nbconvert_exporter": "python",
   "pygments_lexer": "ipython3",
   "version": "3.11.5"
  }
 },
 "nbformat": 4,
 "nbformat_minor": 5
}

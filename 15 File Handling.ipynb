{
 "cells": [
  {
   "cell_type": "markdown",
   "id": "5e978627",
   "metadata": {},
   "source": [
    "# File Handling"
   ]
  },
  {
   "cell_type": "markdown",
   "id": "b6a6f37c",
   "metadata": {},
   "source": [
    "#### What is File Handling ?"
   ]
  },
  {
   "cell_type": "markdown",
   "id": "d601044f",
   "metadata": {},
   "source": [
    "File Handling is an important part for web apllication.       \n",
    "When can do several functions for Creating, Reading, Updating and Deleting files."
   ]
  },
  {
   "cell_type": "markdown",
   "id": "c0594799",
   "metadata": {},
   "source": [
    "#### File Handling Permissions"
   ]
  },
  {
   "cell_type": "markdown",
   "id": "57962dae",
   "metadata": {},
   "source": [
    "\"r\" - Read a file content      \n",
    "\"a\" - Append a value in file    \n",
    "\"w\" - Write a value in file  "
   ]
  },
  {
   "cell_type": "markdown",
   "id": "36c42587",
   "metadata": {},
   "source": [
    "## File Creating"
   ]
  },
  {
   "cell_type": "code",
   "execution_count": 1,
   "id": "6216c23c",
   "metadata": {},
   "outputs": [
    {
     "name": "stdout",
     "output_type": "stream",
     "text": [
      "File created\n"
     ]
    }
   ],
   "source": [
    "# open(\"File name\",\"Permission\")\n",
    "\n",
    "s = \"This is my file handling programe\" # how to store that string into file\n",
    "\n",
    "# 1st you need to create file\n",
    "file = open(\"demo.txt\",\"w\")\n",
    "file.write(s)\n",
    "print(\"File created\") # dont forgot to close the file \n",
    "file.close()\n"
   ]
  },
  {
   "cell_type": "code",
   "execution_count": 2,
   "id": "d2a35c25",
   "metadata": {},
   "outputs": [],
   "source": [
    "# the file will be created back of the current file (means you just go back)"
   ]
  },
  {
   "cell_type": "markdown",
   "id": "04f37fd7",
   "metadata": {},
   "source": [
    "## File Reading"
   ]
  },
  {
   "cell_type": "code",
   "execution_count": 3,
   "id": "e70ab2c6",
   "metadata": {},
   "outputs": [
    {
     "name": "stdout",
     "output_type": "stream",
     "text": [
      "This is my file handling programe\n"
     ]
    }
   ],
   "source": [
    "file = open(\"demo.txt\",\"r\")\n",
    "filecontent = file.read()\n",
    "print(filecontent)"
   ]
  },
  {
   "cell_type": "markdown",
   "id": "62aef708",
   "metadata": {},
   "source": [
    "## Write a list into file"
   ]
  },
  {
   "cell_type": "code",
   "execution_count": 9,
   "id": "238a1f2d",
   "metadata": {},
   "outputs": [
    {
     "name": "stdout",
     "output_type": "stream",
     "text": [
      "file created\n"
     ]
    }
   ],
   "source": [
    "l1 =[\"python\",\"jawa\",\"php\",\"angular\"] # it store into single block memory\n",
    "file = open(\"demo2.txt\",\"w\")\n",
    "file.writelines(l1)\n",
    "print(\"file created\")\n",
    "file.close()"
   ]
  },
  {
   "cell_type": "markdown",
   "id": "fe3e9efd",
   "metadata": {},
   "source": [
    "### Read a list from file"
   ]
  },
  {
   "cell_type": "code",
   "execution_count": 11,
   "id": "25b9f5cb",
   "metadata": {},
   "outputs": [
    {
     "name": "stdout",
     "output_type": "stream",
     "text": [
      "['pythonjawaphpangular']\n"
     ]
    }
   ],
   "source": [
    "file = open(\"demo2.txt\",\"r\")\n",
    "filelist = file.readlines()\n",
    "print(filelist)"
   ]
  },
  {
   "cell_type": "markdown",
   "id": "cdef29e9",
   "metadata": {},
   "source": [
    "## Appending the value into file"
   ]
  },
  {
   "cell_type": "code",
   "execution_count": 12,
   "id": "14f9c2aa",
   "metadata": {},
   "outputs": [
    {
     "name": "stdout",
     "output_type": "stream",
     "text": [
      "File Updated\n"
     ]
    }
   ],
   "source": [
    "s = \"python file handling\"\n",
    "file = open(\"demo.txt\",\"a\")\n",
    "file.write(s)\n",
    "print(\"File Updated\")\n",
    "file.close()"
   ]
  },
  {
   "cell_type": "code",
   "execution_count": null,
   "id": "74f669b0",
   "metadata": {},
   "outputs": [],
   "source": []
  }
 ],
 "metadata": {
  "kernelspec": {
   "display_name": "Python 3 (ipykernel)",
   "language": "python",
   "name": "python3"
  },
  "language_info": {
   "codemirror_mode": {
    "name": "ipython",
    "version": 3
   },
   "file_extension": ".py",
   "mimetype": "text/x-python",
   "name": "python",
   "nbconvert_exporter": "python",
   "pygments_lexer": "ipython3",
   "version": "3.11.5"
  }
 },
 "nbformat": 4,
 "nbformat_minor": 5
}

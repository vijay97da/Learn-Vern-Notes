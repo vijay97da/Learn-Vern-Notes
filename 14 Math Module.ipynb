{
 "cells": [
  {
   "cell_type": "markdown",
   "id": "69b8cb2e",
   "metadata": {},
   "source": [
    "# Math Module"
   ]
  },
  {
   "cell_type": "code",
   "execution_count": 1,
   "id": "d3da0223",
   "metadata": {},
   "outputs": [],
   "source": [
    "# import math (1st way to import)\n",
    "# from math import function name (2nd way to import)"
   ]
  },
  {
   "cell_type": "markdown",
   "id": "72572fc0",
   "metadata": {},
   "source": [
    "## Factorial()"
   ]
  },
  {
   "cell_type": "markdown",
   "id": "ae61b340",
   "metadata": {},
   "source": [
    "Factorial() : this function return factorial number."
   ]
  },
  {
   "cell_type": "code",
   "execution_count": 3,
   "id": "b90b759e",
   "metadata": {},
   "outputs": [
    {
     "name": "stdout",
     "output_type": "stream",
     "text": [
      "362880\n",
      "24\n",
      "479001600\n"
     ]
    }
   ],
   "source": [
    "import math \n",
    "\n",
    "print(math.factorial(9)) # in bracket ypu need to enter any which you need find factorial of\n",
    "print(math.factorial(4))\n",
    "print(math.factorial(12))"
   ]
  },
  {
   "cell_type": "markdown",
   "id": "21d8329b",
   "metadata": {},
   "source": [
    "## Ceil()"
   ]
  },
  {
   "cell_type": "markdown",
   "id": "2a8bd65a",
   "metadata": {},
   "source": [
    "Ceil() : This function is used to round up of the integer."
   ]
  },
  {
   "cell_type": "code",
   "execution_count": 7,
   "id": "e09da3f9",
   "metadata": {},
   "outputs": [
    {
     "name": "stdout",
     "output_type": "stream",
     "text": [
      "2\n",
      "2\n",
      "-5\n"
     ]
    }
   ],
   "source": [
    "import math\n",
    "\n",
    "print(math.ceil(1.5)) # nearest but upper of the integer\n",
    "print(math.ceil(1.2))\n",
    "print(math.ceil(-5.2))"
   ]
  },
  {
   "cell_type": "markdown",
   "id": "663f6f7a",
   "metadata": {},
   "source": [
    "## Floor()"
   ]
  },
  {
   "cell_type": "markdown",
   "id": "412c415f",
   "metadata": {},
   "source": [
    "Floor() : This function is used to round down of the integer"
   ]
  },
  {
   "cell_type": "code",
   "execution_count": 8,
   "id": "acf73ade",
   "metadata": {},
   "outputs": [
    {
     "name": "stdout",
     "output_type": "stream",
     "text": [
      "0\n",
      "1\n",
      "-6\n"
     ]
    }
   ],
   "source": [
    "import math\n",
    "\n",
    "print(math.floor(0.8)) # nearest down value of the integer\n",
    "print(math.floor(1.7))\n",
    "print(math.floor(-5.9))"
   ]
  },
  {
   "cell_type": "markdown",
   "id": "5eabe158",
   "metadata": {},
   "source": [
    "## Sqrt()"
   ]
  },
  {
   "cell_type": "markdown",
   "id": "a4dbff70",
   "metadata": {},
   "source": [
    "Sqrt() : This function is used to return square root of the value."
   ]
  },
  {
   "cell_type": "code",
   "execution_count": 9,
   "id": "4c4cc48d",
   "metadata": {},
   "outputs": [
    {
     "name": "stdout",
     "output_type": "stream",
     "text": [
      "3.0\n",
      "3.4641016151377544\n",
      "9.0\n",
      "9.9498743710662\n"
     ]
    }
   ],
   "source": [
    "import math\n",
    "\n",
    "print(math.sqrt(9))\n",
    "print(math.sqrt(12))\n",
    "print(math.sqrt(81))\n",
    "print(math.sqrt(99))"
   ]
  },
  {
   "cell_type": "code",
   "execution_count": null,
   "id": "45729271",
   "metadata": {},
   "outputs": [],
   "source": []
  }
 ],
 "metadata": {
  "kernelspec": {
   "display_name": "Python 3 (ipykernel)",
   "language": "python",
   "name": "python3"
  },
  "language_info": {
   "codemirror_mode": {
    "name": "ipython",
    "version": 3
   },
   "file_extension": ".py",
   "mimetype": "text/x-python",
   "name": "python",
   "nbconvert_exporter": "python",
   "pygments_lexer": "ipython3",
   "version": "3.11.5"
  }
 },
 "nbformat": 4,
 "nbformat_minor": 5
}

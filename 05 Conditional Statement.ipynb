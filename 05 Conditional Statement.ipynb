{
 "cells": [
  {
   "cell_type": "markdown",
   "id": "6bf24422",
   "metadata": {},
   "source": [
    "# Conditional Statement"
   ]
  },
  {
   "cell_type": "markdown",
   "id": "8141fc87",
   "metadata": {},
   "source": [
    "### What is Conditional Statement ?"
   ]
  },
  {
   "cell_type": "markdown",
   "id": "4cb9886e",
   "metadata": {},
   "source": [
    "Conditional Statement in Python perform different computations or actions depending on whether a specific Boolean constraint evaluates to true or false. \n",
    "Conditional statements are handled by IF statements in Python.\n",
    "1) Simple If\n",
    "2) If_else\n",
    "3) If_else ladder\n",
    "4) Nested If"
   ]
  },
  {
   "cell_type": "markdown",
   "id": "71b5adde",
   "metadata": {},
   "source": [
    "### simple If"
   ]
  },
  {
   "cell_type": "markdown",
   "id": "dd64f8b8",
   "metadata": {},
   "source": [
    "if condition:      \n",
    "    Statement     \n",
    "    Note : Indentation is compulsory"
   ]
  },
  {
   "cell_type": "code",
   "execution_count": 1,
   "id": "bede63d1",
   "metadata": {},
   "outputs": [
    {
     "name": "stdout",
     "output_type": "stream",
     "text": [
      "value of variable is 10\n",
      "bye\n"
     ]
    }
   ],
   "source": [
    "var = 10\n",
    "if(var==10):     #your condition is getting true\n",
    "    print(\"value of variable is 10\")\n",
    "    \n",
    "print(\"bye\")\n",
    " \n"
   ]
  },
  {
   "cell_type": "code",
   "execution_count": 3,
   "id": "f977b97b",
   "metadata": {},
   "outputs": [
    {
     "name": "stdout",
     "output_type": "stream",
     "text": [
      "bye\n"
     ]
    }
   ],
   "source": [
    "a = 25\n",
    "if(a>=30): # condition is getting false\n",
    "    print(\"value of variable is 25\")\n",
    "    \n",
    "print(\"bye\")"
   ]
  },
  {
   "cell_type": "markdown",
   "id": "64c52957",
   "metadata": {},
   "source": [
    "### If_Else"
   ]
  },
  {
   "cell_type": "markdown",
   "id": "18b8b7e3",
   "metadata": {},
   "source": [
    "If True then True Statement And False then False statement"
   ]
  },
  {
   "cell_type": "markdown",
   "id": "4881204d",
   "metadata": {},
   "source": [
    "if conditon:   \n",
    "Statement    \n",
    "Else:    \n",
    "Statement    \n",
    "Note : Indentation is compulsory."
   ]
  },
  {
   "cell_type": "code",
   "execution_count": 4,
   "id": "c7819d34",
   "metadata": {},
   "outputs": [
    {
     "name": "stdout",
     "output_type": "stream",
     "text": [
      "Enter the value of A : 10\n",
      "Enter the value of B : 20\n",
      "B is greater\n"
     ]
    }
   ],
   "source": [
    "a = int(input(\"Enter the value of A : \"))\n",
    "b = int(input(\"Enter the value of B : \"))\n",
    "\n",
    "if a<b: # condition is getting true\n",
    "    print(\"B is greater\")\n",
    "else:\n",
    "    print(\"A is greater\")"
   ]
  },
  {
   "cell_type": "code",
   "execution_count": 6,
   "id": "9976fa1d",
   "metadata": {},
   "outputs": [
    {
     "name": "stdout",
     "output_type": "stream",
     "text": [
      "Enter the value of x : 10\n",
      "Enter the value of y : 20\n",
      "x is greater\n"
     ]
    }
   ],
   "source": [
    "x = int(input(\"Enter the value of x : \"))\n",
    "y = int(input(\"Enter the value of y : \"))\n",
    "\n",
    "if x<y: \n",
    "    print(\"x is greater\")\n",
    "else:\n",
    "    print(\"y is greater\")"
   ]
  },
  {
   "cell_type": "code",
   "execution_count": 7,
   "id": "05695cdf",
   "metadata": {},
   "outputs": [
    {
     "name": "stdout",
     "output_type": "stream",
     "text": [
      "y is greater\n"
     ]
    }
   ],
   "source": [
    "x = 25\n",
    "y = 30\n",
    "\n",
    "if x<y: #condition true\n",
    "    print(\"y is greater\")\n",
    "else:\n",
    "    print(\"x is greater\")"
   ]
  },
  {
   "cell_type": "markdown",
   "id": "15981303",
   "metadata": {},
   "source": [
    "### If Else Ladder"
   ]
  },
  {
   "cell_type": "code",
   "execution_count": 9,
   "id": "5dbdeae4",
   "metadata": {},
   "outputs": [],
   "source": [
    "# if condition:\n",
    "#     take action(if condition is true)\n",
    "# elif condition:\n",
    "#     take action(if condition is true)\n",
    "# else:\n",
    "#     take action(if condition is false)\n",
    "# Used when we need to check multiple conditions"
   ]
  },
  {
   "cell_type": "markdown",
   "id": "54b89ce1",
   "metadata": {},
   "source": [
    "Question :\n",
    "1) percentage greater than 70 == dist\n",
    "2) percentage greater or equal to 65 and less than 70 == 1st class\n",
    "3) percentage greater or equal to 60 and less than 65 == 2nd class\n",
    "4) percentage greater or equal to 55 and less than 60 == 3rd class\n",
    "5) percentage less than 55 == fail"
   ]
  },
  {
   "cell_type": "code",
   "execution_count": 13,
   "id": "b5e8e03a",
   "metadata": {},
   "outputs": [
    {
     "name": "stdout",
     "output_type": "stream",
     "text": [
      "Enter your percentage : 70\n",
      "Dist\n"
     ]
    }
   ],
   "source": [
    "p = int(input(\"Enter your percentage : \"))\n",
    "\n",
    "if p>=70:\n",
    "    print(\"Dist\")\n",
    "elif p>=65 and p<70:\n",
    "    print(\"1st Class\")\n",
    "elif p>=60 and p<65:\n",
    "    print(\"2nd Class\")\n",
    "elif p>=55 and p<60:\n",
    "    print(\"3rd Class\")\n",
    "else:\n",
    "    print(\"Fail\")\n",
    "    "
   ]
  },
  {
   "cell_type": "code",
   "execution_count": 11,
   "id": "2764198d",
   "metadata": {},
   "outputs": [
    {
     "name": "stdout",
     "output_type": "stream",
     "text": [
      "Enter your percentage : 45\n",
      "Fail\n"
     ]
    }
   ],
   "source": [
    "p = int(input(\"Enter your percentage : \"))\n",
    "\n",
    "if p>=70:\n",
    "    print(\"Dist\")\n",
    "elif p>=65 and p<70:\n",
    "    print(\"1st Class\")\n",
    "elif p>=60 and p<65:\n",
    "    print(\"2nd Class\")\n",
    "elif p>=55 and p<60:\n",
    "    print(\"3rd Class\")\n",
    "else:\n",
    "    print(\"Fail\")\n",
    "    "
   ]
  },
  {
   "cell_type": "markdown",
   "id": "39a70621",
   "metadata": {},
   "source": [
    "### Nasted If"
   ]
  },
  {
   "cell_type": "code",
   "execution_count": 12,
   "id": "38e9c00e",
   "metadata": {},
   "outputs": [],
   "source": [
    "# if condition:\n",
    "#     if condition:\n",
    "#         Statement\n",
    "#         Else:\n",
    "#             Statement\n",
    "#     else:\n",
    "#         Statement\n",
    "    \n",
    "#     Used when we need to check multiple conditions"
   ]
  },
  {
   "cell_type": "markdown",
   "id": "8728692f",
   "metadata": {},
   "source": [
    "Question :\n",
    "1) Age>=18\n",
    "2) weight>=50\n",
    "3) If both age and weight match with criteria then the user can donate the blood\n",
    "4) if age is less than 18 show one msg under age\n",
    "5) if weight is less than 50 show one msg under weight\n",
    "6) if age does not match then it should ask for weight"
   ]
  },
  {
   "cell_type": "code",
   "execution_count": 15,
   "id": "d343e460",
   "metadata": {},
   "outputs": [
    {
     "name": "stdout",
     "output_type": "stream",
     "text": [
      "Enter your age : 14\n",
      "Enter your weight : 66\n",
      "Under age\n"
     ]
    }
   ],
   "source": [
    "age = int(input(\"Enter your age : \"))\n",
    "weight = int(input(\"Enter your weight : \"))\n",
    "\n",
    "if age>=18:\n",
    "    if weight>=50:\n",
    "        print(\"eligible for blood donation\")\n",
    "    else:\n",
    "        print(\"under weight\")\n",
    "else:\n",
    "    print(\"Under age\")\n",
    "    "
   ]
  },
  {
   "cell_type": "code",
   "execution_count": null,
   "id": "c8385059",
   "metadata": {},
   "outputs": [],
   "source": [
    "#above conditon is gone wrong"
   ]
  },
  {
   "cell_type": "code",
   "execution_count": 1,
   "id": "49ce71b2",
   "metadata": {},
   "outputs": [
    {
     "name": "stdout",
     "output_type": "stream",
     "text": [
      "Enter your age : 12\n",
      "Under age\n"
     ]
    }
   ],
   "source": [
    "age = int(input(\"Enter your age : \"))\n",
    "\n",
    "\n",
    "if age>=18:\n",
    "    weight = int(input(\"Enter your weight : \"))\n",
    "    if weight>=50:\n",
    "        print(\"eligible for blood donation\")\n",
    "    else:\n",
    "        print(\"under weight\")\n",
    "else:\n",
    "    print(\"Under age\")\n",
    "    "
   ]
  },
  {
   "cell_type": "code",
   "execution_count": 2,
   "id": "f044b1c4",
   "metadata": {},
   "outputs": [
    {
     "name": "stdout",
     "output_type": "stream",
     "text": [
      "Enter your age : 19\n",
      "Enter your weight : 55\n",
      "eligible for blood donation\n"
     ]
    }
   ],
   "source": [
    "age = int(input(\"Enter your age : \"))\n",
    "\n",
    "\n",
    "if age>=18:\n",
    "    weight = int(input(\"Enter your weight : \"))\n",
    "    if weight>=50:\n",
    "        print(\"eligible for blood donation\")\n",
    "    else:\n",
    "        print(\"under weight\")\n",
    "else:\n",
    "    print(\"Under age\")\n",
    "    "
   ]
  },
  {
   "cell_type": "code",
   "execution_count": 3,
   "id": "f358735f",
   "metadata": {},
   "outputs": [
    {
     "name": "stdout",
     "output_type": "stream",
     "text": [
      "Enter your age : 22\n",
      "Enter your weight : 44\n",
      "under weight\n"
     ]
    }
   ],
   "source": [
    "age = int(input(\"Enter your age : \"))\n",
    "\n",
    "\n",
    "if age>=18:\n",
    "    weight = int(input(\"Enter your weight : \"))\n",
    "    if weight>=50:\n",
    "        print(\"eligible for blood donation\")\n",
    "    else:\n",
    "        print(\"under weight\")\n",
    "else:\n",
    "    print(\"Under age\")\n",
    "    "
   ]
  },
  {
   "cell_type": "code",
   "execution_count": null,
   "id": "21951149",
   "metadata": {},
   "outputs": [],
   "source": []
  }
 ],
 "metadata": {
  "kernelspec": {
   "display_name": "Python 3 (ipykernel)",
   "language": "python",
   "name": "python3"
  },
  "language_info": {
   "codemirror_mode": {
    "name": "ipython",
    "version": 3
   },
   "file_extension": ".py",
   "mimetype": "text/x-python",
   "name": "python",
   "nbconvert_exporter": "python",
   "pygments_lexer": "ipython3",
   "version": "3.11.5"
  }
 },
 "nbformat": 4,
 "nbformat_minor": 5
}

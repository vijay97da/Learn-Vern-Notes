{
 "cells": [
  {
   "cell_type": "markdown",
   "id": "16e45c6a",
   "metadata": {},
   "source": [
    "# Operators"
   ]
  },
  {
   "cell_type": "markdown",
   "id": "862712ac",
   "metadata": {},
   "source": [
    "#### Operators are used to perform operations on variables and values in python."
   ]
  },
  {
   "cell_type": "markdown",
   "id": "e39eaa9c",
   "metadata": {},
   "source": [
    "Types of Operators :\n",
    "1) Arithmetic operators\n",
    "2) Assignment operators\n",
    "3) Comparison operators\n",
    "4) Logical Operators\n",
    "5) Identity operators\n",
    "6) Membership operators"
   ]
  },
  {
   "cell_type": "markdown",
   "id": "f795edaf",
   "metadata": {},
   "source": [
    "### 1) Arithmetic operators"
   ]
  },
  {
   "cell_type": "code",
   "execution_count": 2,
   "id": "004f7bba",
   "metadata": {},
   "outputs": [
    {
     "name": "stdout",
     "output_type": "stream",
     "text": [
      "Answer :- 30\n"
     ]
    }
   ],
   "source": [
    "# Addition operator\n",
    "x = 10\n",
    "y = 20\n",
    "\n",
    "z = x+y\n",
    "print(\"Answer :-\",z)"
   ]
  },
  {
   "cell_type": "code",
   "execution_count": 3,
   "id": "89a9cd29",
   "metadata": {},
   "outputs": [
    {
     "name": "stdout",
     "output_type": "stream",
     "text": [
      "Answer :- 30\n"
     ]
    }
   ],
   "source": [
    "# Subtraction operator\n",
    "a = 50\n",
    "b = 20\n",
    "\n",
    "c = a-b\n",
    "print(\"Answer :-\",c)"
   ]
  },
  {
   "cell_type": "code",
   "execution_count": 4,
   "id": "e845ba61",
   "metadata": {},
   "outputs": [
    {
     "name": "stdout",
     "output_type": "stream",
     "text": [
      "Answer :- 20\n"
     ]
    }
   ],
   "source": [
    "# Multiplication operator\n",
    "d = 4\n",
    "e = 5\n",
    "\n",
    "f = d*e\n",
    "print(\"Answer :-\",f)"
   ]
  },
  {
   "cell_type": "code",
   "execution_count": 5,
   "id": "75f42eb3",
   "metadata": {},
   "outputs": [
    {
     "name": "stdout",
     "output_type": "stream",
     "text": [
      "Answer :- 25.0\n"
     ]
    }
   ],
   "source": [
    "# Division operator\n",
    "g = 100\n",
    "h = 4\n",
    "\n",
    "i = g/h\n",
    "print(\"Answer :-\",i)"
   ]
  },
  {
   "cell_type": "markdown",
   "id": "4930f309",
   "metadata": {},
   "source": [
    "### 2) Assignment operators"
   ]
  },
  {
   "cell_type": "code",
   "execution_count": 6,
   "id": "f59f79eb",
   "metadata": {},
   "outputs": [
    {
     "name": "stdout",
     "output_type": "stream",
     "text": [
      "j : 5\n"
     ]
    }
   ],
   "source": [
    "# Equal to operator\n",
    "j = 5\n",
    "print(\"j :\",j)"
   ]
  },
  {
   "cell_type": "code",
   "execution_count": 8,
   "id": "6ca9bd13",
   "metadata": {},
   "outputs": [
    {
     "name": "stdout",
     "output_type": "stream",
     "text": [
      "k : 12\n"
     ]
    }
   ],
   "source": [
    "# Addition and Equal to operator\n",
    "k = 5\n",
    "k+=7 # k = k+7\n",
    "print(\"k :\",k)"
   ]
  },
  {
   "cell_type": "code",
   "execution_count": 10,
   "id": "217949f2",
   "metadata": {},
   "outputs": [
    {
     "name": "stdout",
     "output_type": "stream",
     "text": [
      "l : 4\n"
     ]
    }
   ],
   "source": [
    "# Subtraction and Equal to operator\n",
    "l = 6\n",
    "l-=2 # l = l-2\n",
    "print(\"l :\",l)"
   ]
  },
  {
   "cell_type": "markdown",
   "id": "0a5ac855",
   "metadata": {},
   "source": [
    "### 3) Comparison operators"
   ]
  },
  {
   "cell_type": "code",
   "execution_count": 12,
   "id": "5357f8ce",
   "metadata": {},
   "outputs": [
    {
     "name": "stdout",
     "output_type": "stream",
     "text": [
      "False\n",
      "True\n"
     ]
    }
   ],
   "source": [
    "# Equal to Equal to operator\n",
    "# its give you only true or false\n",
    "m = 5\n",
    "n = 7\n",
    "print(m==n)\n",
    "\n",
    "m = 5\n",
    "o = 5\n",
    "print(m==o)"
   ]
  },
  {
   "cell_type": "code",
   "execution_count": 14,
   "id": "d291e3ad",
   "metadata": {},
   "outputs": [
    {
     "name": "stdout",
     "output_type": "stream",
     "text": [
      "True\n"
     ]
    }
   ],
   "source": [
    "# Not Equal to operator\n",
    "# \"!\" sign for not\n",
    "p = 5\n",
    "q = 3\n",
    "print(p!=q)"
   ]
  },
  {
   "cell_type": "code",
   "execution_count": 15,
   "id": "45161736",
   "metadata": {},
   "outputs": [
    {
     "name": "stdout",
     "output_type": "stream",
     "text": [
      "True\n"
     ]
    }
   ],
   "source": [
    "# Greater than equal to operator\n",
    "r = 5\n",
    "s = 3\n",
    "print(r>=s)"
   ]
  },
  {
   "cell_type": "code",
   "execution_count": 16,
   "id": "0f768873",
   "metadata": {},
   "outputs": [
    {
     "name": "stdout",
     "output_type": "stream",
     "text": [
      "False\n"
     ]
    }
   ],
   "source": [
    "# Less than equal to operator\n",
    "t = 5\n",
    "u = 3\n",
    "print(t<=u)"
   ]
  },
  {
   "cell_type": "markdown",
   "id": "9883d3cb",
   "metadata": {},
   "source": [
    "### 4) Logical Operators"
   ]
  },
  {
   "cell_type": "code",
   "execution_count": 20,
   "id": "a41d6ca2",
   "metadata": {},
   "outputs": [
    {
     "name": "stdout",
     "output_type": "stream",
     "text": [
      "False\n"
     ]
    }
   ],
   "source": [
    "# And operator\n",
    "v = 5\n",
    "print(v>3 and v<3) #both conditions are need to be true"
   ]
  },
  {
   "cell_type": "code",
   "execution_count": 24,
   "id": "05de9dc0",
   "metadata": {},
   "outputs": [
    {
     "name": "stdout",
     "output_type": "stream",
     "text": [
      "True\n"
     ]
    }
   ],
   "source": [
    "# or operator\n",
    "w = 5 \n",
    "print(w>4 or w<3) # only condition is enough for true answer"
   ]
  },
  {
   "cell_type": "markdown",
   "id": "8e1b6421",
   "metadata": {},
   "source": [
    "### 5) Identity operators"
   ]
  },
  {
   "cell_type": "code",
   "execution_count": 27,
   "id": "f8f5c403",
   "metadata": {},
   "outputs": [
    {
     "name": "stdout",
     "output_type": "stream",
     "text": [
      "False\n",
      "True\n"
     ]
    }
   ],
   "source": [
    "# is operator\n",
    "x = [\"apple\",\"mango\"]\n",
    "y = [\"apple\",\"mango\"]\n",
    "z = x\n",
    "print(x is y) #the object in not matching that's why it give as false\n",
    "print(x is z) # the object is matching that's why it returns true"
   ]
  },
  {
   "cell_type": "markdown",
   "id": "11a71b6e",
   "metadata": {},
   "source": [
    "### 6) Membership operators"
   ]
  },
  {
   "cell_type": "code",
   "execution_count": 30,
   "id": "95524c09",
   "metadata": {},
   "outputs": [
    {
     "name": "stdout",
     "output_type": "stream",
     "text": [
      "False\n",
      "True\n"
     ]
    }
   ],
   "source": [
    "x = [\"apple\",\"mango\"]\n",
    "print(\"banana\"in x)\n",
    "print(\"graps\"not in x)"
   ]
  },
  {
   "cell_type": "markdown",
   "id": "e5674d3d",
   "metadata": {},
   "source": [
    "## Operator Precedence"
   ]
  },
  {
   "cell_type": "markdown",
   "id": "25113539",
   "metadata": {},
   "source": [
    "Which operator evaluates first can be confusing. So we have some rules for this too.                        This is the precedence table that denotes which operator evaluates first."
   ]
  },
  {
   "cell_type": "markdown",
   "id": "1d6a33b1",
   "metadata": {},
   "source": [
    "it works left to right"
   ]
  },
  {
   "cell_type": "markdown",
   "id": "014dd3eb",
   "metadata": {},
   "source": [
    "Value = (1+1)*2**4//3+4-1\n",
    "1) (1+1)      \n",
    "2*2**4//3+4-1\n",
    "\n",
    "2) (2 power of 4)      \n",
    "2*16//3+4-1\n",
    "\n",
    "3) (2*16)     \n",
    "32//3+4-1\n",
    "\n",
    "4) (\"//\" means flow division)      \n",
    "(32//3+4-1)      \n",
    "10+4-1\n",
    "\n",
    "5) 14-1    \n",
    "Value=13\n",
    "\n",
    "\n"
   ]
  },
  {
   "cell_type": "code",
   "execution_count": 35,
   "id": "94fb036f",
   "metadata": {},
   "outputs": [
    {
     "name": "stdout",
     "output_type": "stream",
     "text": [
      "Answer of x : 90.0\n",
      "Answer of y : 90.0\n",
      "Answer of z : 50.0\n"
     ]
    }
   ],
   "source": [
    "a = 20\n",
    "b = 10\n",
    "c = 15\n",
    "d = 5\n",
    "\n",
    "x = (a+b)*c/d #(30*15)/5\n",
    "print(\"Answer of x :\",x)\n",
    "\n",
    "y = ((a+b)*c)/d #(30*15)/5\n",
    "print(\"Answer of y :\",y) # in this equation python take a bracket as a first priority\n",
    "\n",
    "z = a+(b*c)/d # 20+(150/5)\n",
    "print(\"Answer of z :\",z)"
   ]
  },
  {
   "cell_type": "code",
   "execution_count": null,
   "id": "6a67f281",
   "metadata": {},
   "outputs": [],
   "source": []
  }
 ],
 "metadata": {
  "kernelspec": {
   "display_name": "Python 3 (ipykernel)",
   "language": "python",
   "name": "python3"
  },
  "language_info": {
   "codemirror_mode": {
    "name": "ipython",
    "version": 3
   },
   "file_extension": ".py",
   "mimetype": "text/x-python",
   "name": "python",
   "nbconvert_exporter": "python",
   "pygments_lexer": "ipython3",
   "version": "3.11.5"
  }
 },
 "nbformat": 4,
 "nbformat_minor": 5
}

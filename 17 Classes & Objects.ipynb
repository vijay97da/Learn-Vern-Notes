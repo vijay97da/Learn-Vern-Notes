{
 "cells": [
  {
   "cell_type": "markdown",
   "id": "845dc15b",
   "metadata": {},
   "source": [
    "# 17 Classes & Objects"
   ]
  },
  {
   "cell_type": "markdown",
   "id": "cdb9defe",
   "metadata": {},
   "source": [
    "# Object Oriented Programming Language (OOPs)"
   ]
  },
  {
   "cell_type": "markdown",
   "id": "69744e21",
   "metadata": {},
   "source": [
    "1) Class\n",
    "2) Objects\n",
    "3) Inheritance\n",
    "4) Polymorphism\n",
    "5) Abstraction\n",
    "6) Encapsulation"
   ]
  },
  {
   "cell_type": "markdown",
   "id": "f9b6df56",
   "metadata": {},
   "source": [
    "#### What is class ?"
   ]
  },
  {
   "cell_type": "markdown",
   "id": "790c4f1a",
   "metadata": {},
   "source": [
    "Python classes provide all the standard features of Object Oriented Programming: the class inheritance mechanism allows multiple\n",
    "    base classes, a derived class can override any methods of its base class or classes, and \n",
    "    a method can call the method of a base class with the same name."
   ]
  },
  {
   "cell_type": "code",
   "execution_count": 1,
   "id": "b6315f5a",
   "metadata": {},
   "outputs": [],
   "source": [
    "#How to create a class in python?\n",
    "#class classname:\n",
    "    #class body"
   ]
  },
  {
   "cell_type": "markdown",
   "id": "0f85cf15",
   "metadata": {},
   "source": [
    "#### What is Object?"
   ]
  },
  {
   "cell_type": "markdown",
   "id": "9a499c01",
   "metadata": {},
   "source": [
    "          \n",
    "Class objects support two kinds of operations: attribute referernces and instantiation.        \n",
    "Attribute references use the standard syntax used for all attribute references in python: obj.name"
   ]
  },
  {
   "cell_type": "markdown",
   "id": "515fad39",
   "metadata": {},
   "source": [
    "### Without Object you can not access Class Property"
   ]
  },
  {
   "cell_type": "markdown",
   "id": "c25e37e4",
   "metadata": {},
   "source": [
    "#### What is Constructor?"
   ]
  },
  {
   "cell_type": "markdown",
   "id": "bfeb7835",
   "metadata": {},
   "source": [
    "Constructor means it's a special member function which calls whenever object create of that class.       \n",
    "Constructor is identify by(_) underscore.       \n",
    "_init_ function : This function is called constructor is python and is call whenever the object is create of that class."
   ]
  },
  {
   "cell_type": "code",
   "execution_count": 2,
   "id": "a06b74ac",
   "metadata": {},
   "outputs": [],
   "source": [
    "# How to create constructor in python ?\n",
    "# def_init_(self):\n",
    "#     constructor body"
   ]
  },
  {
   "cell_type": "markdown",
   "id": "dca3da4d",
   "metadata": {},
   "source": [
    "### How to create a Class ?"
   ]
  },
  {
   "cell_type": "code",
   "execution_count": 3,
   "id": "10356718",
   "metadata": {},
   "outputs": [
    {
     "name": "stdout",
     "output_type": "stream",
     "text": [
      "<class '__main__.myclass'>\n"
     ]
    }
   ],
   "source": [
    "class myclass:\n",
    "    x = 5 # property of class\n",
    "    \n",
    "print(myclass)\n",
    " # you cannot access class directly"
   ]
  },
  {
   "cell_type": "markdown",
   "id": "02db96b5",
   "metadata": {},
   "source": [
    "### How to create Object ?"
   ]
  },
  {
   "cell_type": "code",
   "execution_count": 4,
   "id": "c6cb5710",
   "metadata": {},
   "outputs": [
    {
     "name": "stdout",
     "output_type": "stream",
     "text": [
      "5\n"
     ]
    }
   ],
   "source": [
    "class myclass:\n",
    "    x = 5 # property of class\n",
    "# creating object of myclass\n",
    "m1 = myclass() # m1 is an object of class myclass\n",
    "# you can used the class by using objects\n",
    "print(m1.x)"
   ]
  },
  {
   "cell_type": "markdown",
   "id": "23fff25a",
   "metadata": {},
   "source": [
    "### Calling a function by Object"
   ]
  },
  {
   "cell_type": "code",
   "execution_count": 5,
   "id": "e2e253fa",
   "metadata": {},
   "outputs": [
    {
     "ename": "TypeError",
     "evalue": "myclass.myfunction() takes 0 positional arguments but 1 was given",
     "output_type": "error",
     "traceback": [
      "\u001b[1;31m---------------------------------------------------------------------------\u001b[0m",
      "\u001b[1;31mTypeError\u001b[0m                                 Traceback (most recent call last)",
      "Cell \u001b[1;32mIn[5], line 7\u001b[0m\n\u001b[0;32m      5\u001b[0m \u001b[38;5;66;03m# Creating an object\u001b[39;00m\n\u001b[0;32m      6\u001b[0m m1 \u001b[38;5;241m=\u001b[39m myclass()\n\u001b[1;32m----> 7\u001b[0m m1\u001b[38;5;241m.\u001b[39mmyfunction()\n",
      "\u001b[1;31mTypeError\u001b[0m: myclass.myfunction() takes 0 positional arguments but 1 was given"
     ]
    }
   ],
   "source": [
    "# first attempt with error\n",
    "class myclass:\n",
    "    def myfunction(): # property of myclass\n",
    "        print(\"Hello myfunction\")\n",
    "# Creating an object\n",
    "m1 = myclass()\n",
    "m1.myfunction()\n",
    "\n",
    "\n",
    "# TypeError: myclass.myfunction() takes 0 positional arguments but 1 was given\n",
    "# whenever you are creating a function under the class you need to write \"self\" under the bracket \n",
    "# it is pre define instance it tells that you belongs to that perticular class"
   ]
  },
  {
   "cell_type": "code",
   "execution_count": null,
   "id": "307ecd5d",
   "metadata": {},
   "outputs": [],
   "source": [
    "# attempt with no error or with self\n",
    "class myclass:\n",
    "    def myfunction(aelf): # property of myclass\n",
    "        print(\"Hello myfunction\")\n",
    "# Creating an object\n",
    "m1 = myclass()\n",
    "m1.myfunction()\n"
   ]
  },
  {
   "cell_type": "markdown",
   "id": "c5c8f7cd",
   "metadata": {},
   "source": [
    "### How to Create Constructor ?"
   ]
  },
  {
   "cell_type": "code",
   "execution_count": 7,
   "id": "558ee80d",
   "metadata": {},
   "outputs": [],
   "source": [
    "class myclass: # Creating a constructor\n",
    "    def _init_(self):\n",
    "        print(\"This is my constructor\")\n",
    "        \n",
    "# creating an object\n",
    "m1 = myclass()"
   ]
  },
  {
   "cell_type": "code",
   "execution_count": 8,
   "id": "078d40cc",
   "metadata": {},
   "outputs": [],
   "source": [
    "class myclass: # Creating a constructor\n",
    "    def _init_(self):\n",
    "        print(\"This is my constructor\")\n",
    "# Creating an object \n",
    "m1 = myclass()\n",
    "\n",
    "# something is going wrong here\n",
    "# in output we need \"this is my constructor\""
   ]
  },
  {
   "cell_type": "markdown",
   "id": "5947a91c",
   "metadata": {},
   "source": [
    "### Change the value by object"
   ]
  },
  {
   "cell_type": "code",
   "execution_count": 11,
   "id": "6ce35dea",
   "metadata": {},
   "outputs": [
    {
     "ename": "SyntaxError",
     "evalue": "invalid syntax (4271933449.py, line 23)",
     "output_type": "error",
     "traceback": [
      "\u001b[1;36m  Cell \u001b[1;32mIn[11], line 23\u001b[1;36m\u001b[0m\n\u001b[1;33m    del.m1.age\u001b[0m\n\u001b[1;37m       ^\u001b[0m\n\u001b[1;31mSyntaxError\u001b[0m\u001b[1;31m:\u001b[0m invalid syntax\n"
     ]
    }
   ],
   "source": [
    "class myclass:\n",
    "    def _init_(self,name,age):\n",
    "        self.name = name\n",
    "        self.age = age\n",
    "        \n",
    "    def myfunction(self):\n",
    "        print(\"My name is : \"+self.name)\n",
    "        \n",
    "# creating on object\n",
    "m1 = myclass(\"Sunit\",25)\n",
    "m1.age\n",
    "m1.name\n",
    "\n",
    "# something is going wrong, i need to find out\n",
    "\n",
    "# Changing the age using object\n",
    "m1.age = 26\n",
    "print(\"age : \"+m1.age)\n",
    "\n",
    "# again i dont get any output\n",
    "\n",
    "# Delete the object\n",
    "del.m1.age\n",
    "print(\"age : \",m1.age)"
   ]
  },
  {
   "cell_type": "code",
   "execution_count": null,
   "id": "ad7fd5f8",
   "metadata": {},
   "outputs": [],
   "source": []
  }
 ],
 "metadata": {
  "kernelspec": {
   "display_name": "Python 3 (ipykernel)",
   "language": "python",
   "name": "python3"
  },
  "language_info": {
   "codemirror_mode": {
    "name": "ipython",
    "version": 3
   },
   "file_extension": ".py",
   "mimetype": "text/x-python",
   "name": "python",
   "nbconvert_exporter": "python",
   "pygments_lexer": "ipython3",
   "version": "3.11.5"
  }
 },
 "nbformat": 4,
 "nbformat_minor": 5
}

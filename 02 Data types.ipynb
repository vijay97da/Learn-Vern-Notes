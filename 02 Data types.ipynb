{
 "cells": [
  {
   "cell_type": "markdown",
   "id": "661f664d",
   "metadata": {},
   "source": [
    "## Data types in Python"
   ]
  },
  {
   "cell_type": "markdown",
   "id": "3dfa902b",
   "metadata": {},
   "source": [
    "1) Data types are used before the variable, to know which type of values are stored in varibal\n",
    "2) Data types are actually classes and varibles are instance (object) of these classes"
   ]
  },
  {
   "cell_type": "markdown",
   "id": "a308489b",
   "metadata": {},
   "source": [
    "Following are the python's built-in data types.\n",
    "1) Numeric :- Integer, Float, Complex Number\n",
    "2) Sequence type :- List, Tuple, String\n",
    "3) Boolean\n",
    "4) Set\n",
    "5) Dictionary"
   ]
  },
  {
   "cell_type": "markdown",
   "id": "c377bd8b",
   "metadata": {},
   "source": [
    "### Numeric Datatype"
   ]
  },
  {
   "cell_type": "code",
   "execution_count": 7,
   "id": "c5f51b07",
   "metadata": {},
   "outputs": [
    {
     "name": "stdout",
     "output_type": "stream",
     "text": [
      "<class 'int'>\n",
      "<class 'float'>\n",
      "<class 'complex'>\n"
     ]
    }
   ],
   "source": [
    "# Int Datatype\n",
    "a = 19\n",
    "print(type(a))\n",
    "\n",
    "# Float Datatype\n",
    "b = 10.5\n",
    "print(type(b))\n",
    "\n",
    "# Complex Datatype\n",
    "c = 2+5j\n",
    "print(type(c))"
   ]
  },
  {
   "cell_type": "markdown",
   "id": "d7e1b3ce",
   "metadata": {},
   "source": [
    "### Boolean Datatype"
   ]
  },
  {
   "cell_type": "code",
   "execution_count": 9,
   "id": "8aa95bdd",
   "metadata": {},
   "outputs": [
    {
     "name": "stdout",
     "output_type": "stream",
     "text": [
      "<class 'bool'>\n",
      "<class 'bool'>\n"
     ]
    }
   ],
   "source": [
    "d = True\n",
    "print(type(d))\n",
    "\n",
    "e = False\n",
    "print(type(e))"
   ]
  },
  {
   "cell_type": "markdown",
   "id": "045d49a1",
   "metadata": {},
   "source": [
    "### Set Datatype"
   ]
  },
  {
   "cell_type": "code",
   "execution_count": 11,
   "id": "87f1882b",
   "metadata": {},
   "outputs": [
    {
     "name": "stdout",
     "output_type": "stream",
     "text": [
      "<class 'set'>\n"
     ]
    }
   ],
   "source": [
    "f = {\"a\",\"b\",\"c\"} #curly bracket\n",
    "print(type(f))"
   ]
  },
  {
   "cell_type": "markdown",
   "id": "8dd0be18",
   "metadata": {},
   "source": [
    "### Dictionary Datatyhpe"
   ]
  },
  {
   "cell_type": "code",
   "execution_count": 12,
   "id": "74bd0b31",
   "metadata": {},
   "outputs": [
    {
     "name": "stdout",
     "output_type": "stream",
     "text": [
      "<class 'dict'>\n"
     ]
    }
   ],
   "source": [
    "g = {\"key\":\"value\"} #curly bracket\n",
    "print(type(g))"
   ]
  },
  {
   "cell_type": "markdown",
   "id": "8c65455c",
   "metadata": {},
   "source": [
    "### Sequence Datatype"
   ]
  },
  {
   "cell_type": "code",
   "execution_count": 17,
   "id": "a1ce6643",
   "metadata": {},
   "outputs": [
    {
     "name": "stdout",
     "output_type": "stream",
     "text": [
      "<class 'list'>\n",
      "<class 'str'>\n",
      "<class 'tuple'>\n"
     ]
    }
   ],
   "source": [
    "# List Datatype\n",
    "a1 = [1,2,3,4,5]\n",
    "print(type(a1))\n",
    "\n",
    "# String Datatype\n",
    "a2 = \"Python Programming\"\n",
    "print(type(a2))\n",
    "\n",
    "# Tuple Datatype\n",
    "# Normal Bracket with more than one\n",
    "a3 = (\"python\",1,1.5)\n",
    "print(type(a3))"
   ]
  },
  {
   "cell_type": "code",
   "execution_count": null,
   "id": "0045f268",
   "metadata": {},
   "outputs": [],
   "source": []
  }
 ],
 "metadata": {
  "kernelspec": {
   "display_name": "Python 3 (ipykernel)",
   "language": "python",
   "name": "python3"
  },
  "language_info": {
   "codemirror_mode": {
    "name": "ipython",
    "version": 3
   },
   "file_extension": ".py",
   "mimetype": "text/x-python",
   "name": "python",
   "nbconvert_exporter": "python",
   "pygments_lexer": "ipython3",
   "version": "3.11.5"
  }
 },
 "nbformat": 4,
 "nbformat_minor": 5
}

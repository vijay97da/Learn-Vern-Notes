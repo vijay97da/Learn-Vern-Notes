{
 "cells": [
  {
   "cell_type": "markdown",
   "id": "90b48987",
   "metadata": {},
   "source": [
    "# Functions"
   ]
  },
  {
   "cell_type": "markdown",
   "id": "02e7c0dc",
   "metadata": {},
   "source": [
    "#### What is Function ?"
   ]
  },
  {
   "cell_type": "markdown",
   "id": "32f8eed8",
   "metadata": {},
   "source": [
    "1) function is a block of code which only runs when is called.\n",
    "2) Function is also used for reusability of code.\n",
    "3) Function is start with \"def\" keyword. (def means defination)"
   ]
  },
  {
   "cell_type": "markdown",
   "id": "9ef43ada",
   "metadata": {},
   "source": [
    "#### In-built Function"
   ]
  },
  {
   "cell_type": "markdown",
   "id": "3656fbce",
   "metadata": {},
   "source": [
    "range()     \n",
    "print()     \n",
    "len()      \n",
    "round()    \n",
    "max()    \n",
    "min()     \n",
    "etc"
   ]
  },
  {
   "cell_type": "code",
   "execution_count": 6,
   "id": "c092d0ca",
   "metadata": {},
   "outputs": [
    {
     "name": "stdout",
     "output_type": "stream",
     "text": [
      "Hello World\n",
      "1\n",
      "2\n",
      "3\n",
      "4\n",
      "5\n",
      "6\n",
      "7\n",
      "8\n",
      "Round value of x :  57\n"
     ]
    }
   ],
   "source": [
    "# print() Function\n",
    "\n",
    "print(\"Hello World\")\n",
    "\n",
    "# range() Function\n",
    "\n",
    "for i in range(1,9):\n",
    "    print(i)\n",
    "    \n",
    "# round() Function\n",
    "x = round(56.7788)\n",
    "print(\"Round value of x : \",x)"
   ]
  },
  {
   "cell_type": "markdown",
   "id": "7d06b522",
   "metadata": {},
   "source": [
    "#### User Define Function"
   ]
  },
  {
   "cell_type": "code",
   "execution_count": 2,
   "id": "e3432f29",
   "metadata": {},
   "outputs": [],
   "source": [
    "# Creating a function:\n",
    "\n",
    "# def function():\n",
    "#          function body\n",
    "\n",
    "\n",
    "# calling a fucntion\n",
    "# function()"
   ]
  },
  {
   "cell_type": "code",
   "execution_count": 8,
   "id": "2c9218b2",
   "metadata": {},
   "outputs": [
    {
     "name": "stdout",
     "output_type": "stream",
     "text": [
      "Hello\n"
     ]
    }
   ],
   "source": [
    "# Create Function\n",
    "\n",
    "def myfunction():\n",
    "    print(\"Hello\")\n",
    "    \n",
    "# Calling a function & it is mandatory to called a function\n",
    "myfunction()"
   ]
  },
  {
   "cell_type": "markdown",
   "id": "717ef3f3",
   "metadata": {},
   "source": [
    "### Function with one arguments"
   ]
  },
  {
   "cell_type": "code",
   "execution_count": 9,
   "id": "04ee913f",
   "metadata": {},
   "outputs": [
    {
     "name": "stdout",
     "output_type": "stream",
     "text": [
      "A :  10\n"
     ]
    }
   ],
   "source": [
    "# Creating a function\n",
    "def myFunction(a):\n",
    "    print(\"A : \",a)\n",
    "    \n",
    "# Calling a function\n",
    "myFunction(10) # passing argument as a 10"
   ]
  },
  {
   "cell_type": "markdown",
   "id": "1f2ba4fd",
   "metadata": {},
   "source": [
    "### Multiple Arguments into function"
   ]
  },
  {
   "cell_type": "code",
   "execution_count": 10,
   "id": "442828b5",
   "metadata": {},
   "outputs": [
    {
     "name": "stdout",
     "output_type": "stream",
     "text": [
      "A :  10\n",
      "B :  20\n"
     ]
    }
   ],
   "source": [
    "# Creating a Function\n",
    "def myFunction(a,b):\n",
    "    print(\"A : \",a)\n",
    "    print(\"B : \",b)\n",
    "    \n",
    "# Calling a function\n",
    "myFunction(10,20)  # Passing 2 argumengts"
   ]
  },
  {
   "cell_type": "markdown",
   "id": "f857967c",
   "metadata": {},
   "source": [
    "### Keywords Arguments"
   ]
  },
  {
   "cell_type": "code",
   "execution_count": 11,
   "id": "cbca1f58",
   "metadata": {},
   "outputs": [
    {
     "name": "stdout",
     "output_type": "stream",
     "text": [
      "Youngest child is : Bharat\n"
     ]
    }
   ],
   "source": [
    "# Creating a function\n",
    "\n",
    "def myFunction(child3,child2,child1):\n",
    "    print(\"Youngest child is : \"+child3)\n",
    "    \n",
    "# Calling a Function\n",
    "myFunction(child1=\"Ram\",child2=\"Laxman\",child3=\"Bharat\")"
   ]
  },
  {
   "cell_type": "code",
   "execution_count": 12,
   "id": "5948a113",
   "metadata": {},
   "outputs": [
    {
     "name": "stdout",
     "output_type": "stream",
     "text": [
      "Youngest child is : Laxman\n"
     ]
    }
   ],
   "source": [
    "# Creating a function\n",
    "\n",
    "def myFunction(child3,child2,child1):\n",
    "    print(\"Youngest child is : \"+child2) # we just need to change the function\n",
    "    \n",
    "# Calling a Function\n",
    "myFunction(child1=\"Ram\",child2=\"Laxman\",child3=\"Bharat\")"
   ]
  },
  {
   "cell_type": "code",
   "execution_count": 13,
   "id": "efa8d0eb",
   "metadata": {},
   "outputs": [
    {
     "name": "stdout",
     "output_type": "stream",
     "text": [
      "Youngest child is : Ram\n"
     ]
    }
   ],
   "source": [
    "# Creating a function\n",
    "\n",
    "def myFunction(child3,child2,child1):\n",
    "    print(\"Youngest child is : \"+child1)\n",
    "    \n",
    "# Calling a Function\n",
    "myFunction(child1=\"Ram\",child2=\"Laxman\",child3=\"Bharat\")"
   ]
  },
  {
   "cell_type": "markdown",
   "id": "b08a7ae7",
   "metadata": {},
   "source": [
    "### Default Parameter with Value"
   ]
  },
  {
   "cell_type": "code",
   "execution_count": 16,
   "id": "5679e38c",
   "metadata": {},
   "outputs": [
    {
     "name": "stdout",
     "output_type": "stream",
     "text": [
      "I am from : Rajastan\n",
      "I am from : Punjab\n",
      "I am from : Uttar Pradesh\n",
      "I am from : Maharastra\n"
     ]
    }
   ],
   "source": [
    "# Creating a function\n",
    "\n",
    "def myfunction(state=\"Maharastra\"):\n",
    "    print(\"I am from : \"+state)\n",
    "    \n",
    "# calling a function\n",
    "myfunction(\"Rajastan\")\n",
    "myfunction(\"Punjab\")\n",
    "myfunction(\"Uttar Pradesh\")\n",
    "myfunction()"
   ]
  },
  {
   "cell_type": "markdown",
   "id": "e8b62fd1",
   "metadata": {},
   "source": [
    "### Passing a list into function"
   ]
  },
  {
   "cell_type": "code",
   "execution_count": 18,
   "id": "bff0594f",
   "metadata": {},
   "outputs": [
    {
     "name": "stdout",
     "output_type": "stream",
     "text": [
      "Apple\n",
      "Mango\n",
      "Orange\n"
     ]
    }
   ],
   "source": [
    "# Creating a function\n",
    "def myfunction(fruit):\n",
    "    for i in fruit:\n",
    "        print(i)\n",
    "f = [\"Apple\",\"Mango\",\"Orange\"]\n",
    "\n",
    "# Calling a function\n",
    "myfunction(f)"
   ]
  },
  {
   "cell_type": "markdown",
   "id": "5aa20260",
   "metadata": {},
   "source": [
    "### Return values from function"
   ]
  },
  {
   "cell_type": "code",
   "execution_count": 19,
   "id": "7c380acc",
   "metadata": {},
   "outputs": [
    {
     "name": "stdout",
     "output_type": "stream",
     "text": [
      "15\n",
      "40\n",
      "45\n"
     ]
    }
   ],
   "source": [
    "# Creating a function\n",
    "\n",
    "def myfunction(x):\n",
    "    return 5*x\n",
    "\n",
    "# Calling a function\n",
    "print(myfunction(3))\n",
    "print(myfunction(8))\n",
    "print(myfunction(9))"
   ]
  },
  {
   "cell_type": "markdown",
   "id": "b089afb9",
   "metadata": {},
   "source": [
    "### Recursion Function"
   ]
  },
  {
   "cell_type": "code",
   "execution_count": 20,
   "id": "1e27fea5",
   "metadata": {},
   "outputs": [
    {
     "name": "stdout",
     "output_type": "stream",
     "text": [
      "Num : 5\n",
      "The factorial of  5 is :  120\n"
     ]
    }
   ],
   "source": [
    "# The funtion which call itself\n",
    "\n",
    "# Creating a function\n",
    "\n",
    "def factorial(x):\n",
    "    if x==1:\n",
    "        return 1\n",
    "    else:\n",
    "        # calling recursion function\n",
    "        return(x*factorial(x-1))\n",
    "num = int(input(\"Num : \"))\n",
    "print(\"The factorial of \",num,\"is : \",factorial(num))"
   ]
  },
  {
   "cell_type": "code",
   "execution_count": 21,
   "id": "f6421b8b",
   "metadata": {},
   "outputs": [
    {
     "name": "stdout",
     "output_type": "stream",
     "text": [
      "Num : 8\n",
      "The factorial of  8 is :  40320\n"
     ]
    }
   ],
   "source": [
    "def factorial(x):\n",
    "    if x==1:\n",
    "        return 1\n",
    "    else:\n",
    "        # calling recursion function\n",
    "        return(x*factorial(x-1))\n",
    "num = int(input(\"Num : \"))\n",
    "print(\"The factorial of \",num,\"is : \",factorial(num))"
   ]
  },
  {
   "cell_type": "markdown",
   "id": "85def7ce",
   "metadata": {},
   "source": [
    "### Anonymous Function(Lambda Function)"
   ]
  },
  {
   "cell_type": "code",
   "execution_count": 23,
   "id": "5c49bd45",
   "metadata": {},
   "outputs": [
    {
     "name": "stdout",
     "output_type": "stream",
     "text": [
      "15\n",
      "50\n"
     ]
    }
   ],
   "source": [
    "# Creating a function\n",
    "x = lambda a : a+10\n",
    "print(x(5))\n",
    "\n",
    "# Lambda function with multiple arguments\n",
    "y = lambda a,b:a*b\n",
    "print(y(5,10))\n"
   ]
  },
  {
   "cell_type": "markdown",
   "id": "83732726",
   "metadata": {},
   "source": [
    "### Global Variable"
   ]
  },
  {
   "cell_type": "code",
   "execution_count": 26,
   "id": "c79b3b9c",
   "metadata": {},
   "outputs": [
    {
     "name": "stdout",
     "output_type": "stream",
     "text": [
      "25\n",
      "20\n"
     ]
    }
   ],
   "source": [
    "# Global variable means the variable can be use anywhere in the program\n",
    "\n",
    "z = 25 # Global variable\n",
    "def myfunction():\n",
    "    global z\n",
    "    print(z)\n",
    "    z = 20\n",
    "    \n",
    "myfunction()\n",
    "print(z)"
   ]
  },
  {
   "cell_type": "markdown",
   "id": "cfa2b9c2",
   "metadata": {},
   "source": [
    "### Local Variable"
   ]
  },
  {
   "cell_type": "code",
   "execution_count": 27,
   "id": "aaa62088",
   "metadata": {},
   "outputs": [
    {
     "name": "stdout",
     "output_type": "stream",
     "text": [
      "15\n",
      "<function <lambda> at 0x000002B42A93A480>\n"
     ]
    }
   ],
   "source": [
    "# The variable which can be used in it scope\n",
    "\n",
    "def sum(x,y):\n",
    "    sum = x+y\n",
    "    return sum\n",
    "\n",
    "print(sum(5,10))\n",
    "\n",
    "print(x) # variable x is a local variable"
   ]
  },
  {
   "cell_type": "code",
   "execution_count": null,
   "id": "6fbd22b7",
   "metadata": {},
   "outputs": [],
   "source": []
  }
 ],
 "metadata": {
  "kernelspec": {
   "display_name": "Python 3 (ipykernel)",
   "language": "python",
   "name": "python3"
  },
  "language_info": {
   "codemirror_mode": {
    "name": "ipython",
    "version": 3
   },
   "file_extension": ".py",
   "mimetype": "text/x-python",
   "name": "python",
   "nbconvert_exporter": "python",
   "pygments_lexer": "ipython3",
   "version": "3.11.5"
  }
 },
 "nbformat": 4,
 "nbformat_minor": 5
}

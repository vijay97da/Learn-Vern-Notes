{
 "cells": [
  {
   "cell_type": "markdown",
   "id": "f7821e4e",
   "metadata": {},
   "source": [
    "# Inheritance"
   ]
  },
  {
   "cell_type": "markdown",
   "id": "e3e1ba03",
   "metadata": {},
   "source": [
    "Inheritance means taking a properties of another class into a another class"
   ]
  },
  {
   "cell_type": "markdown",
   "id": "a4fda5b6",
   "metadata": {},
   "source": [
    "Inheritance Rule :- You must create's only child class object"
   ]
  },
  {
   "cell_type": "markdown",
   "id": "627e491c",
   "metadata": {},
   "source": [
    "Python supports inheritance, it even supports multiple inheritance.      \n",
    "Classes can inherit from other classes.      \n",
    "A class can inherit attributes and bahavior methods from another class, called the superclass.     \n",
    "A class can inherit from a superclass is called a subclass also called heir class or child class.    "
   ]
  },
  {
   "cell_type": "markdown",
   "id": "f4f73fa3",
   "metadata": {},
   "source": [
    "## type of Inheritance"
   ]
  },
  {
   "cell_type": "markdown",
   "id": "6fe06fe0",
   "metadata": {},
   "source": [
    "1) Single Inheritance\n",
    "2) Multilevel Inheritance\n",
    "3) Multiple Inheritance\n",
    "4) Hierarchical Inheritance\n",
    "5) Hybrid Inheritance"
   ]
  },
  {
   "cell_type": "markdown",
   "id": "41cf78cf",
   "metadata": {},
   "source": [
    "## 1) Single Inheritance"
   ]
  },
  {
   "cell_type": "markdown",
   "id": "27d0a4ac",
   "metadata": {},
   "source": [
    "In single inheritance there is only one parent class and one child class.       \n",
    "In single inheritance only one parent class is inherit into one child class."
   ]
  },
  {
   "cell_type": "code",
   "execution_count": 4,
   "id": "9e4943c6",
   "metadata": {},
   "outputs": [
    {
     "name": "stdout",
     "output_type": "stream",
     "text": [
      "Parent Class Function Called\n",
      "Child Class Function Called\n"
     ]
    }
   ],
   "source": [
    "class ParentClass: # Parent Class\n",
    "    def myfunction1(self): # Parent class property\n",
    "        print(\"Parent Class Function Called\")\n",
    "        \n",
    "class ChildClass(ParentClass): # Child class which inhrit parent class\n",
    "    def myfunction2(self): # Child class property\n",
    "        print(\"Child Class Function Called\")\n",
    "        \n",
    "        \n",
    "# Creating an object of childclass\n",
    "c1 = ChildClass()\n",
    "c1.myfunction1()\n",
    "c1.myfunction2()\n",
    "        \n"
   ]
  },
  {
   "cell_type": "markdown",
   "id": "a4315b52",
   "metadata": {},
   "source": [
    "## 2) Multilevel Inheritance"
   ]
  },
  {
   "cell_type": "markdown",
   "id": "857bc3dc",
   "metadata": {},
   "source": [
    "In mutilevel inheritance there are levels of class.    \n",
    "Parent Class---> Sub Parent Class---> Child Class"
   ]
  },
  {
   "cell_type": "code",
   "execution_count": 11,
   "id": "4bc3a91d",
   "metadata": {},
   "outputs": [
    {
     "name": "stdout",
     "output_type": "stream",
     "text": [
      "Class A function called\n",
      "Class B function called\n",
      "Class C function called\n"
     ]
    }
   ],
   "source": [
    "class A: # Parent class\n",
    "    def myfunct(self):\n",
    "        print(\"Class A function called\")\n",
    "        \n",
    "class B(A): # Sub-Parent class\n",
    "    def myfunction2(self):\n",
    "         print(\"Class B function called\")\n",
    "            \n",
    "class C(B): # Child class\n",
    "    def myfunction3(self):\n",
    "        print(\"Class C function called\")\n",
    "\n",
    "# Creating an object of class C\n",
    "c1 = C()\n",
    "c1.myfunct()\n",
    "c1.myfunction2()\n",
    "c1.myfunction3()"
   ]
  },
  {
   "cell_type": "markdown",
   "id": "336ffb2b",
   "metadata": {},
   "source": [
    "## 3) Multiple Inheritance"
   ]
  },
  {
   "cell_type": "markdown",
   "id": "62765ec0",
   "metadata": {},
   "source": [
    "When a child class inherits from multiple parent classes, it is called multiple inheritance.     \n"
   ]
  },
  {
   "cell_type": "code",
   "execution_count": 12,
   "id": "5c423804",
   "metadata": {},
   "outputs": [],
   "source": [
    "# Parent Class            Parent Class\n",
    "#             \\          /\n",
    "#              \\       /\n",
    "#              Child Class"
   ]
  },
  {
   "cell_type": "code",
   "execution_count": 4,
   "id": "96615de0",
   "metadata": {},
   "outputs": [
    {
     "name": "stdout",
     "output_type": "stream",
     "text": [
      "Class A1 function called\n",
      "Class B1 function called\n",
      "Class C1 function called\n"
     ]
    }
   ],
   "source": [
    "class A1: # 1st parent class\n",
    "    def myfunction1(self):\n",
    "        print(\"Class A1 function called\")\n",
    "class B1: # 2nd parent class \n",
    "    def myfunction2(self):\n",
    "        print(\"Class B1 function called\")\n",
    "class C1(A1,B1): # Child class\n",
    "    def myfunction3(self):\n",
    "        print(\"Class C1 function called\")\n",
    "# Creating an object of class c1\n",
    "\n",
    "c1 = C1()\n",
    "c1.myfunction1()\n",
    "c1.myfunction2()\n",
    "c1.myfunction3()"
   ]
  },
  {
   "cell_type": "markdown",
   "id": "69f024a8",
   "metadata": {},
   "source": [
    "## 4) Hierarchical Inheritance"
   ]
  },
  {
   "cell_type": "markdown",
   "id": "103427d1",
   "metadata": {},
   "source": [
    "When more than one child class is created from a single parent class is called Hierarchical Inheritance."
   ]
  },
  {
   "cell_type": "code",
   "execution_count": 5,
   "id": "5c12abf6",
   "metadata": {},
   "outputs": [],
   "source": [
    "#                Parent Class\n",
    "#                /          \\\n",
    "#              /             \\ \n",
    "#            /    Inherit     \\\n",
    "#      Child Class        Child Class"
   ]
  },
  {
   "cell_type": "code",
   "execution_count": 10,
   "id": "b35f4258",
   "metadata": {},
   "outputs": [
    {
     "name": "stdout",
     "output_type": "stream",
     "text": [
      "Class A1 Function Called\n",
      "Class A2 Function Called \n",
      "Class A1 Function Called\n",
      "Class A3 Function Called\n"
     ]
    }
   ],
   "source": [
    "class A1: # Parent Class\n",
    "    def myfunction1(self):\n",
    "        print(\"Class A1 Function Called\")\n",
    "        \n",
    "class A2(A1): # Child Class\n",
    "    def myfunction2(self):\n",
    "        print(\"Class A2 Function Called \")\n",
    "        \n",
    "class A3(A1): # Child Class\n",
    "    def myfunction3(self):\n",
    "        print(\"Class A3 Function Called\")\n",
    "\n",
    "# Crating 2 object 1 for class A2 and 1 for class A3\n",
    "\n",
    "a2 = A2()\n",
    "\n",
    "a3 = A3()\n",
    "\n",
    "a2.myfunction1() # function of class A1\n",
    "a2.myfunction2() # function of class A2\n",
    "\n",
    "a3.myfunction1() # function of class A1\n",
    "a3.myfunction3() # function of class A3\n"
   ]
  },
  {
   "cell_type": "markdown",
   "id": "63e4e8de",
   "metadata": {},
   "source": [
    "## 5) Hybrid Inheritance"
   ]
  },
  {
   "cell_type": "markdown",
   "id": "4f4f2125",
   "metadata": {},
   "source": [
    "This form combines more than one form of inheritance.       \n",
    "Basically, it is a blend of more than one type of inheritance."
   ]
  },
  {
   "cell_type": "code",
   "execution_count": 11,
   "id": "186f38c8",
   "metadata": {},
   "outputs": [],
   "source": [
    "#                  ---------Parent class--------\n",
    "#\n",
    "#            Child class                     Child class\n",
    "#                            Inherit\n",
    "#                  ---------Child class---------"
   ]
  },
  {
   "cell_type": "code",
   "execution_count": 12,
   "id": "7bb5f30a",
   "metadata": {},
   "outputs": [
    {
     "name": "stdout",
     "output_type": "stream",
     "text": [
      "Function of class B1\n",
      "Function of class B2\n",
      "Function of class B3\n",
      "Function of class B4\n"
     ]
    }
   ],
   "source": [
    "class B1: # Parent Class\n",
    "    def myfunction1(self):\n",
    "        print(\"Function of class B1\")\n",
    "        \n",
    "class B2(B1): # Child Class\n",
    "    def myfunction2(self):\n",
    "        print(\"Function of class B2\")\n",
    "        \n",
    "class B3(B1): # Child Class\n",
    "    def myfunction3(self):\n",
    "        print(\"Function of class B3\")\n",
    "        \n",
    "class B4(B2,B3): # Child Class\n",
    "    def myfunction4(self):\n",
    "        print(\"Function of class B4\")\n",
    "\n",
    "# Creating an object of class B4\n",
    "\n",
    "b = B4() # Object of B4 class\n",
    "b.myfunction1()\n",
    "b.myfunction2()\n",
    "b.myfunction3()\n",
    "b.myfunction4()"
   ]
  },
  {
   "cell_type": "code",
   "execution_count": null,
   "id": "7ca1f350",
   "metadata": {},
   "outputs": [],
   "source": []
  }
 ],
 "metadata": {
  "kernelspec": {
   "display_name": "Python 3 (ipykernel)",
   "language": "python",
   "name": "python3"
  },
  "language_info": {
   "codemirror_mode": {
    "name": "ipython",
    "version": 3
   },
   "file_extension": ".py",
   "mimetype": "text/x-python",
   "name": "python",
   "nbconvert_exporter": "python",
   "pygments_lexer": "ipython3",
   "version": "3.11.5"
  }
 },
 "nbformat": 4,
 "nbformat_minor": 5
}

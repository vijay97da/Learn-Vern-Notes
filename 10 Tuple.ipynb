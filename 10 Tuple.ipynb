{
 "cells": [
  {
   "cell_type": "markdown",
   "id": "c557a67f",
   "metadata": {},
   "source": [
    "# Tuple"
   ]
  },
  {
   "cell_type": "markdown",
   "id": "7e3442c5",
   "metadata": {},
   "source": [
    "#### What is Tuple ?"
   ]
  },
  {
   "cell_type": "markdown",
   "id": "7cf8478e",
   "metadata": {},
   "source": [
    "1) Tuple is collection in python.\n",
    "2) Tuple is Immutable (No Changeable at Runtime.)\n",
    "3) tuple allow multiple datatype values to be store.\n",
    "4) Tuple is working on index value starting from zero(0)."
   ]
  },
  {
   "cell_type": "code",
   "execution_count": 1,
   "id": "0d8eed2a",
   "metadata": {},
   "outputs": [
    {
     "name": "stdout",
     "output_type": "stream",
     "text": [
      "Current Tuple :  ('Apple', 'Orange', 'Cherry', 1, 2, 3, 4, 5, 10.5, 12.5, 5, 4)\n"
     ]
    }
   ],
   "source": [
    "# Creatinn a Tuple\n",
    "t1 = (\"Apple\", \"Orange\",\"Cherry\",1,2,3,4,5,10.5,12.5,5,4)\n",
    "print(\"Current Tuple : \",t1)\n"
   ]
  },
  {
   "cell_type": "markdown",
   "id": "424e6251",
   "metadata": {},
   "source": [
    "### How to check a lenth of tuple"
   ]
  },
  {
   "cell_type": "code",
   "execution_count": 3,
   "id": "77da4ae3",
   "metadata": {},
   "outputs": [
    {
     "name": "stdout",
     "output_type": "stream",
     "text": [
      "Lenth of t2 :  7\n"
     ]
    }
   ],
   "source": [
    "t2 = (1,2,3,4,5,6,7)\n",
    "# checking the lenth of tuple\n",
    "print(\"Lenth of t2 : \",len(t2))"
   ]
  },
  {
   "cell_type": "markdown",
   "id": "5e748d7e",
   "metadata": {},
   "source": [
    "### Indexing / Slicing"
   ]
  },
  {
   "cell_type": "code",
   "execution_count": 11,
   "id": "a7b10593",
   "metadata": {},
   "outputs": [
    {
     "name": "stdout",
     "output_type": "stream",
     "text": [
      "Current Tuple :  ('Apple', 'Orange', 'Cherry', 1, 2, 3, 4, 5, 10.5, 12.5, 5, 4)\n",
      "Index one value :  Orange\n",
      "Index between 1 to 6 :  ('Orange', 'Cherry', 1, 2, 3)\n",
      "Last Value :  4\n",
      "Value Till index 6 :  ('Apple', 'Orange', 'Cherry', 1, 2, 3)\n"
     ]
    }
   ],
   "source": [
    "t1 = (\"Apple\", \"Orange\",\"Cherry\",1,2,3,4,5,10.5,12.5,5,4)\n",
    "print(\"Current Tuple : \",t1)\n",
    "\n",
    "# Accessting the value by using index\n",
    "print(\"Index one value : \",t1[1])\n",
    "\n",
    "# Accessing the value between index 1 to 6\n",
    "print(\"Index between 1 to 6 : \",t1[1:6])\n",
    "\n",
    "# Access the value from last into tuple\n",
    "print(\"Last Value : \",t1[-1])\n",
    "\n",
    "# Access the value till index 6\n",
    "print(\"Value Till index 6 : \",t1[:6])"
   ]
  },
  {
   "cell_type": "markdown",
   "id": "56c8d3f9",
   "metadata": {},
   "source": [
    "### Convert Tuple into List"
   ]
  },
  {
   "cell_type": "code",
   "execution_count": 13,
   "id": "6390f78a",
   "metadata": {},
   "outputs": [
    {
     "name": "stdout",
     "output_type": "stream",
     "text": [
      "Current Tuple :  ('Apple', 'Orange', 'Cherry', 1, 2, 3, 4, 5, 10.5, 12.5, 5, 4)\n",
      "After Convert :  ['Apple', 'Orange', 'Cherry', 1, 2, 3, 4, 5, 10.5, 12.5, 5, 4]\n"
     ]
    }
   ],
   "source": [
    "t1 = (\"Apple\", \"Orange\",\"Cherry\",1,2,3,4,5,10.5,12.5,5,4)\n",
    "print(\"Current Tuple : \",t1) # Before change or update\n",
    "\n",
    "# updated\n",
    "x = list(t1)\n",
    "print(\"After Convert : \",x)"
   ]
  },
  {
   "cell_type": "markdown",
   "id": "af328022",
   "metadata": {},
   "source": [
    "### Tuple Constructor"
   ]
  },
  {
   "cell_type": "code",
   "execution_count": 14,
   "id": "b2fd1c8c",
   "metadata": {},
   "outputs": [
    {
     "name": "stdout",
     "output_type": "stream",
     "text": [
      "('apple', 'mango', 'cherry')\n"
     ]
    }
   ],
   "source": [
    "t3 = tuple((\"apple\",\"mango\",\"cherry\")) # note the double round-brackets\n",
    "print(t3)"
   ]
  },
  {
   "cell_type": "markdown",
   "id": "dc940ca1",
   "metadata": {},
   "source": [
    "### Add item but after converting tuple into list"
   ]
  },
  {
   "cell_type": "code",
   "execution_count": 19,
   "id": "c7cbbfd9",
   "metadata": {},
   "outputs": [
    {
     "name": "stdout",
     "output_type": "stream",
     "text": [
      "Currant Tuple :  ('Apple', 'Orange', 'Mango')\n",
      "<class 'tuple'>\n",
      "['Apple', 'Orange', 'Mango']\n",
      "<class 'list'>\n",
      "Updated List :  ['Apple', 'kiwi', 'Mango']\n",
      "Updated Tuple :  ('Apple', 'kiwi', 'Mango')\n"
     ]
    }
   ],
   "source": [
    "t4 = (\"Apple\",\"Orange\",\"Mango\")\n",
    "print(\"Currant Tuple : \",t4) # Before conversion\n",
    "print(type(t4))\n",
    "\n",
    "# Convert tuple into list\n",
    "x = list(t4)\n",
    "print(x)\n",
    "print(type(x))\n",
    "\n",
    "# Add item into list\n",
    "x[1] = \"kiwi\"\n",
    "print(\"Updated List : \",x)\n",
    "\n",
    "# convert list into tuple again\n",
    "y = tuple(x)\n",
    "print(\"Updated Tuple : \",y)\n"
   ]
  },
  {
   "cell_type": "markdown",
   "id": "0e0992b8",
   "metadata": {},
   "source": [
    "### Loops with Tuple"
   ]
  },
  {
   "cell_type": "code",
   "execution_count": 27,
   "id": "0e353eca",
   "metadata": {},
   "outputs": [
    {
     "name": "stdout",
     "output_type": "stream",
     "text": [
      "Apple\n",
      "Mango\n",
      "Orange\n",
      "Kiwi\n"
     ]
    }
   ],
   "source": [
    "# for loop with tuple\n",
    "t5 = ('Apple', 'Mango', 'Orange', 'Kiwi')\n",
    "for i in t5:\n",
    "    print(i)"
   ]
  },
  {
   "cell_type": "code",
   "execution_count": 28,
   "id": "7cb364e9",
   "metadata": {},
   "outputs": [
    {
     "name": "stdout",
     "output_type": "stream",
     "text": [
      "0\n",
      "1\n",
      "2\n",
      "3\n",
      "loop finish\n"
     ]
    }
   ],
   "source": [
    "# While Loop with tuple\n",
    "t5 = ('Apple', 'Mango', 'Orange', 'Kiwi')\n",
    "i = 0\n",
    "\n",
    "while i<len(t5):\n",
    "    print(i)\n",
    "    i=i+1\n",
    "else:\n",
    "    print(\"loop finish\")"
   ]
  },
  {
   "cell_type": "code",
   "execution_count": 29,
   "id": "e1a8e342",
   "metadata": {},
   "outputs": [
    {
     "name": "stdout",
     "output_type": "stream",
     "text": [
      "Apple\n",
      "Mango\n",
      "Orange\n",
      "Kiwi\n",
      "loop finish\n"
     ]
    }
   ],
   "source": [
    "t5 = ('Apple', 'Mango', 'Orange', 'Kiwi')\n",
    "i = 0\n",
    "\n",
    "while i<len(t5):\n",
    "    print(t5[i])\n",
    "    i=i+1\n",
    "else:\n",
    "    print(\"loop finish\")"
   ]
  },
  {
   "cell_type": "markdown",
   "id": "aa0b1358",
   "metadata": {},
   "source": [
    "### How to compare tuples"
   ]
  },
  {
   "cell_type": "code",
   "execution_count": 32,
   "id": "0d2811de",
   "metadata": {},
   "outputs": [
    {
     "name": "stdout",
     "output_type": "stream",
     "text": [
      "False\n",
      "True\n",
      "False\n"
     ]
    }
   ],
   "source": [
    "tuple1 = (1,2,3)\n",
    "tuple2 = (4,5,6)\n",
    "\n",
    "# tuple1 is equal to tuple2\n",
    "print(tuple1==tuple2)\n",
    "\n",
    "# tuple1 is lessthan tuple2 ?\n",
    "print(tuple1<tuple2)\n",
    "\n",
    "# typle1 is greaterthan tuple2 ?\n",
    "print(tuple1>tuple2)"
   ]
  },
  {
   "cell_type": "code",
   "execution_count": null,
   "id": "c18f94af",
   "metadata": {},
   "outputs": [],
   "source": []
  }
 ],
 "metadata": {
  "kernelspec": {
   "display_name": "Python 3 (ipykernel)",
   "language": "python",
   "name": "python3"
  },
  "language_info": {
   "codemirror_mode": {
    "name": "ipython",
    "version": 3
   },
   "file_extension": ".py",
   "mimetype": "text/x-python",
   "name": "python",
   "nbconvert_exporter": "python",
   "pygments_lexer": "ipython3",
   "version": "3.11.5"
  }
 },
 "nbformat": 4,
 "nbformat_minor": 5
}

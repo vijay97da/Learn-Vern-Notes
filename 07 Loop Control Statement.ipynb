{
 "cells": [
  {
   "cell_type": "markdown",
   "id": "0b35a21e",
   "metadata": {},
   "source": [
    "# Loop Control Statement"
   ]
  },
  {
   "cell_type": "markdown",
   "id": "1e8bc81f",
   "metadata": {},
   "source": [
    "### What is Looping Control Statement ?"
   ]
  },
  {
   "cell_type": "markdown",
   "id": "f6366440",
   "metadata": {},
   "source": [
    "The loop control statement change the execution of the loop. When the execution leaves the scope, all automatic objects are get destroyed."
   ]
  },
  {
   "cell_type": "markdown",
   "id": "a0ddeab4",
   "metadata": {},
   "source": [
    "1) Break Statement :- Terminates the loop statement and transfer execution to the statement immediately following loop.\n",
    "2) Continue Statement :- Causes the loop to skip the remainder of its body and immediately retest its condition prior to reiterating.\n",
    "3) Pass Statement :- The pass statement in Python is used when a statement is required syntactically but you do not want any command or code to excute."
   ]
  },
  {
   "cell_type": "markdown",
   "id": "41160aec",
   "metadata": {},
   "source": [
    "## 1) Break Statement"
   ]
  },
  {
   "cell_type": "code",
   "execution_count": 2,
   "id": "41adc8ea",
   "metadata": {},
   "outputs": [
    {
     "name": "stdout",
     "output_type": "stream",
     "text": [
      "Current Letter :  p\n",
      "Current Letter :  y\n",
      "Current Letter :  t\n",
      "bye\n"
     ]
    }
   ],
   "source": [
    "for letter in \"python\":\n",
    "    if letter == \"h\":\n",
    "        # Here i'm using break statement to break execution\n",
    "        break\n",
    "    print(\"Current Letter : \",letter)\n",
    "    \n",
    "print(\"bye\")\n",
    "        "
   ]
  },
  {
   "cell_type": "code",
   "execution_count": 3,
   "id": "86e9adaa",
   "metadata": {},
   "outputs": [
    {
     "name": "stdout",
     "output_type": "stream",
     "text": [
      "Current Letter :  p\n",
      "Current Letter :  y\n",
      "Current Letter :  t\n",
      "Current Letter :  h\n",
      "bye\n"
     ]
    }
   ],
   "source": [
    "for letter in \"python\":\n",
    "    if letter == \"o\":\n",
    "        break\n",
    "    print(\"Current Letter : \",letter)\n",
    "    \n",
    "print(\"bye\")"
   ]
  },
  {
   "cell_type": "markdown",
   "id": "8b190150",
   "metadata": {},
   "source": [
    "## 2) Continue Statement"
   ]
  },
  {
   "cell_type": "code",
   "execution_count": 5,
   "id": "0a01f5f0",
   "metadata": {},
   "outputs": [
    {
     "name": "stdout",
     "output_type": "stream",
     "text": [
      "Current Letter :  p\n",
      "Current Letter :  y\n",
      "Current Letter :  t\n",
      "Current Letter :  o\n",
      "Current Letter :  n\n",
      "bye\n"
     ]
    }
   ],
   "source": [
    "for letter in \"python\":\n",
    "    if letter == \"h\":\n",
    "        #continue statement will skip the \"h\"\n",
    "        continue\n",
    "    print(\"Current Letter : \",letter)\n",
    "    \n",
    "print(\"bye\")\n",
    "    "
   ]
  },
  {
   "cell_type": "markdown",
   "id": "f94b01f3",
   "metadata": {},
   "source": [
    "## 3) Pass Statement"
   ]
  },
  {
   "cell_type": "code",
   "execution_count": 6,
   "id": "26d6ac3a",
   "metadata": {},
   "outputs": [
    {
     "name": "stdout",
     "output_type": "stream",
     "text": [
      "Current Letter :  p\n",
      "Current Letter :  y\n",
      "Current Letter :  t\n",
      "pass Block\n",
      "Current Letter :  h\n",
      "Current Letter :  o\n",
      "Current Letter :  n\n",
      "bye\n"
     ]
    }
   ],
   "source": [
    "for letter in \"python\":\n",
    "    if letter == \"h\":\n",
    "        pass\n",
    "        print(\"pass Block\")\n",
    "    print(\"Current Letter : \",letter)\n",
    "print(\"bye\")\n",
    "    "
   ]
  },
  {
   "cell_type": "code",
   "execution_count": null,
   "id": "113f74ac",
   "metadata": {},
   "outputs": [],
   "source": []
  }
 ],
 "metadata": {
  "kernelspec": {
   "display_name": "Python 3 (ipykernel)",
   "language": "python",
   "name": "python3"
  },
  "language_info": {
   "codemirror_mode": {
    "name": "ipython",
    "version": 3
   },
   "file_extension": ".py",
   "mimetype": "text/x-python",
   "name": "python",
   "nbconvert_exporter": "python",
   "pygments_lexer": "ipython3",
   "version": "3.11.5"
  }
 },
 "nbformat": 4,
 "nbformat_minor": 5
}

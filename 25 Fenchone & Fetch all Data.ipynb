{
 "cells": [
  {
   "cell_type": "markdown",
   "id": "37c24411",
   "metadata": {},
   "source": [
    "# Fenchone & Fetch all Data"
   ]
  },
  {
   "cell_type": "markdown",
   "id": "6bc98cd9",
   "metadata": {},
   "source": [
    "### Fetch all data and Fetch by Id data from database"
   ]
  },
  {
   "cell_type": "markdown",
   "id": "6f1bdf53",
   "metadata": {},
   "source": [
    "## Fetch All Data from Database"
   ]
  },
  {
   "cell_type": "code",
   "execution_count": 2,
   "id": "ccf5b977",
   "metadata": {},
   "outputs": [
    {
     "ename": "NameError",
     "evalue": "name 'CreateConn' is not defined",
     "output_type": "error",
     "traceback": [
      "\u001b[1;31m---------------------------------------------------------------------------\u001b[0m",
      "\u001b[1;31mNameError\u001b[0m                                 Traceback (most recent call last)",
      "Cell \u001b[1;32mIn[2], line 10\u001b[0m\n\u001b[0;32m      7\u001b[0m     \u001b[38;5;28;01mfor\u001b[39;00m i \u001b[38;5;129;01min\u001b[39;00m result:\n\u001b[0;32m      8\u001b[0m         \u001b[38;5;28mprint\u001b[39m(i)\n\u001b[1;32m---> 10\u001b[0m ShowAllData()\n",
      "Cell \u001b[1;32mIn[2], line 2\u001b[0m, in \u001b[0;36mShowAllData\u001b[1;34m()\u001b[0m\n\u001b[0;32m      1\u001b[0m \u001b[38;5;28;01mdef\u001b[39;00m \u001b[38;5;21mShowAllData\u001b[39m():\n\u001b[1;32m----> 2\u001b[0m     conn \u001b[38;5;241m=\u001b[39m CreateConn()\n\u001b[0;32m      3\u001b[0m     cursor \u001b[38;5;241m=\u001b[39m conn\u001b[38;5;241m.\u001b[39mcursor()\n\u001b[0;32m      4\u001b[0m     query \u001b[38;5;241m=\u001b[39m \u001b[38;5;124m\"\u001b[39m\u001b[38;5;124mselect * from student\u001b[39m\u001b[38;5;124m\"\u001b[39m\n",
      "\u001b[1;31mNameError\u001b[0m: name 'CreateConn' is not defined"
     ]
    }
   ],
   "source": [
    "def ShowAllData():\n",
    "    conn = CreateConn()\n",
    "    cursor = conn.cursor()\n",
    "    query = \"select * from student\"\n",
    "    cursor.execute(query)\n",
    "    result = cursor.fecthall()\n",
    "    for i in result:\n",
    "        print(i) # using loop for whole data\n",
    "        \n",
    "ShowAllData() # u see the whole data from the table"
   ]
  },
  {
   "cell_type": "markdown",
   "id": "fa72225f",
   "metadata": {},
   "source": [
    "## Fetch Data by Id from Database"
   ]
  },
  {
   "cell_type": "code",
   "execution_count": 3,
   "id": "5732c435",
   "metadata": {},
   "outputs": [
    {
     "ename": "NameError",
     "evalue": "name 'CreateConn' is not defined",
     "output_type": "error",
     "traceback": [
      "\u001b[1;31m---------------------------------------------------------------------------\u001b[0m",
      "\u001b[1;31mNameError\u001b[0m                                 Traceback (most recent call last)",
      "Cell \u001b[1;32mIn[3], line 11\u001b[0m\n\u001b[0;32m      8\u001b[0m     \u001b[38;5;28;01mfor\u001b[39;00m i \u001b[38;5;129;01min\u001b[39;00m result:\n\u001b[0;32m      9\u001b[0m         \u001b[38;5;28mprint\u001b[39m(i)\n\u001b[1;32m---> 11\u001b[0m ShowAllData()\n\u001b[0;32m     13\u001b[0m sid \u001b[38;5;241m=\u001b[39m \u001b[38;5;28mint\u001b[39m(\u001b[38;5;28minput\u001b[39m(\u001b[38;5;124m\"\u001b[39m\u001b[38;5;124mEnter your Id : \u001b[39m\u001b[38;5;124m\"\u001b[39m))\n\u001b[0;32m     14\u001b[0m ShowAllDataById(sid)\n",
      "Cell \u001b[1;32mIn[2], line 2\u001b[0m, in \u001b[0;36mShowAllData\u001b[1;34m()\u001b[0m\n\u001b[0;32m      1\u001b[0m \u001b[38;5;28;01mdef\u001b[39;00m \u001b[38;5;21mShowAllData\u001b[39m():\n\u001b[1;32m----> 2\u001b[0m     conn \u001b[38;5;241m=\u001b[39m CreateConn()\n\u001b[0;32m      3\u001b[0m     cursor \u001b[38;5;241m=\u001b[39m conn\u001b[38;5;241m.\u001b[39mcursor()\n\u001b[0;32m      4\u001b[0m     query \u001b[38;5;241m=\u001b[39m \u001b[38;5;124m\"\u001b[39m\u001b[38;5;124mselect * from student\u001b[39m\u001b[38;5;124m\"\u001b[39m\n",
      "\u001b[1;31mNameError\u001b[0m: name 'CreateConn' is not defined"
     ]
    }
   ],
   "source": [
    "def ShowAllDataById(sid): # data according to id\n",
    "    conn = CreateConn()\n",
    "    cursor = conn.cursor()\n",
    "    args = (sid)\n",
    "    query = \"select * from student where sid=%s\"\n",
    "    cursor.execute(query,args)\n",
    "    result = cursor.fetchall()\n",
    "    for i in result:\n",
    "        print(i)\n",
    "        \n",
    "ShowAllData()\n",
    "\n",
    "sid = int(input(\"Enter your Id : \"))\n",
    "ShowAllDataById(sid)"
   ]
  },
  {
   "cell_type": "code",
   "execution_count": null,
   "id": "52260ab4",
   "metadata": {},
   "outputs": [],
   "source": []
  }
 ],
 "metadata": {
  "kernelspec": {
   "display_name": "Python 3 (ipykernel)",
   "language": "python",
   "name": "python3"
  },
  "language_info": {
   "codemirror_mode": {
    "name": "ipython",
    "version": 3
   },
   "file_extension": ".py",
   "mimetype": "text/x-python",
   "name": "python",
   "nbconvert_exporter": "python",
   "pygments_lexer": "ipython3",
   "version": "3.11.5"
  }
 },
 "nbformat": 4,
 "nbformat_minor": 5
}

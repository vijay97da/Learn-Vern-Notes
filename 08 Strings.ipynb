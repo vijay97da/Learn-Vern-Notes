{
 "cells": [
  {
   "cell_type": "markdown",
   "id": "5f4ff055",
   "metadata": {},
   "source": [
    "# Strings"
   ]
  },
  {
   "cell_type": "markdown",
   "id": "8a16e00a",
   "metadata": {},
   "source": [
    "#### What is String ?"
   ]
  },
  {
   "cell_type": "markdown",
   "id": "496b48ef",
   "metadata": {},
   "source": [
    "Strings in python are surrounded by either single quotation marks, or double quotation marks.      \n",
    "String is the collection of character.        \n",
    "String allow any datatype value to be store"
   ]
  },
  {
   "cell_type": "markdown",
   "id": "ee4b8b2c",
   "metadata": {},
   "source": [
    "### How to use String in python"
   ]
  },
  {
   "cell_type": "code",
   "execution_count": 3,
   "id": "63c28731",
   "metadata": {},
   "outputs": [
    {
     "name": "stdout",
     "output_type": "stream",
     "text": [
      "Hello India\n",
      "Hello World\n"
     ]
    }
   ],
   "source": [
    "# Single quote in string\n",
    "print('Hello India')\n",
    "\n",
    "# Double Quote in string\n",
    "print(\"Hello World\")"
   ]
  },
  {
   "cell_type": "markdown",
   "id": "e7b6e9ac",
   "metadata": {},
   "source": [
    "### Multiline String"
   ]
  },
  {
   "cell_type": "code",
   "execution_count": 4,
   "id": "576bb0ed",
   "metadata": {},
   "outputs": [
    {
     "name": "stdout",
     "output_type": "stream",
     "text": [
      "python is booming in the India,\n",
      "python is smart language,\n",
      "python is used in AI, Machine learning, Data Science\n"
     ]
    }
   ],
   "source": [
    "# need to work in triple quotes\n",
    "a = \"\"\"python is booming in the India,\n",
    "python is smart language,\n",
    "python is used in AI, Machine learning, Data Science\"\"\"\n",
    "print(a)"
   ]
  },
  {
   "cell_type": "markdown",
   "id": "566496d0",
   "metadata": {},
   "source": [
    "## Update String"
   ]
  },
  {
   "cell_type": "code",
   "execution_count": 7,
   "id": "c0a54820",
   "metadata": {},
   "outputs": [
    {
     "name": "stdout",
     "output_type": "stream",
     "text": [
      "Hello World !\n",
      "updated String :  Hello python\n"
     ]
    }
   ],
   "source": [
    "a = \"Hello World !\"\n",
    "print(a)\n",
    "print(\"updated String : \",a[:6]+\"python\")"
   ]
  },
  {
   "cell_type": "markdown",
   "id": "46f40d12",
   "metadata": {},
   "source": [
    "## Sting Slicing"
   ]
  },
  {
   "cell_type": "code",
   "execution_count": 13,
   "id": "f3c6f026",
   "metadata": {},
   "outputs": [
    {
     "name": "stdout",
     "output_type": "stream",
     "text": [
      "Index 1 :  e\n",
      "Index between 1 to 6 :  ello \n",
      "Index till 6 :  Hello \n",
      "Index till 6 :  Hello P\n",
      "Last value :  n\n",
      "Second Last value :  o\n"
     ]
    }
   ],
   "source": [
    "a = \"Hello Python\" # in slicing the letter number 1 is start as a 0\n",
    "\n",
    "#Access the value of Index 1\n",
    "print(\"Index 1 : \",a[1])\n",
    "\n",
    "#Access the value Between index 1 to 6\n",
    "print(\"Index between 1 to 6 : \",a[1:6]) # 1 is starting point & 6 ending point\n",
    "\n",
    "# Access the value till index 6\n",
    "print(\"Index till 6 : \",a[:6]) #from start to till 6 (its also consider space)\n",
    "\n",
    "# Another example\n",
    "print(\"Index till 6 : \",a[:7])\n",
    "\n",
    "# Access the last value form string\n",
    "print(\"Last value : \",a[-1])\n",
    "\n",
    "# Another example\n",
    "print(\"Second Last value : \",a[-2])"
   ]
  },
  {
   "cell_type": "markdown",
   "id": "951949d4",
   "metadata": {},
   "source": [
    "## Sting In-Build Methods"
   ]
  },
  {
   "cell_type": "code",
   "execution_count": 15,
   "id": "011323fc",
   "metadata": {},
   "outputs": [
    {
     "name": "stdout",
     "output_type": "stream",
     "text": [
      "Hello and welcome to learnvern\n"
     ]
    }
   ],
   "source": [
    "# Capitalize() : This method converts the first character in String\n",
    "a = \"hello and welcome to learnvern\"\n",
    "x = a.capitalize()\n",
    "print(x)"
   ]
  },
  {
   "cell_type": "code",
   "execution_count": 16,
   "id": "298e1a9c",
   "metadata": {},
   "outputs": [
    {
     "name": "stdout",
     "output_type": "stream",
     "text": [
      "hello and welcome to learnvern\n"
     ]
    }
   ],
   "source": [
    "# Casefold() : This method convert all capital letter into small\n",
    "a = \"Hello and Welcome to Learnvern\"\n",
    "x = a.casefold()\n",
    "print(x)"
   ]
  },
  {
   "cell_type": "code",
   "execution_count": 18,
   "id": "9ddb190c",
   "metadata": {},
   "outputs": [
    {
     "name": "stdout",
     "output_type": "stream",
     "text": [
      "python\n",
      "       python       \n"
     ]
    }
   ],
   "source": [
    "# Center() : This is use to bring your into center\n",
    "a = \"python\"\n",
    "print(a)\n",
    "\n",
    "x = a.center(20) # update using center method\n",
    "print(x)"
   ]
  },
  {
   "cell_type": "code",
   "execution_count": 19,
   "id": "90a5eabf",
   "metadata": {},
   "outputs": [
    {
     "name": "stdout",
     "output_type": "stream",
     "text": [
      "2\n"
     ]
    }
   ],
   "source": [
    "# Count() : This method is used to count the repeated word in string\n",
    "a = \"I love python, python is a smart language\"\n",
    "x = a.count(\"python\")\n",
    "print(x)"
   ]
  },
  {
   "cell_type": "markdown",
   "id": "8d3d1541",
   "metadata": {},
   "source": [
    "## How to compare Sting"
   ]
  },
  {
   "cell_type": "code",
   "execution_count": 20,
   "id": "f1edca61",
   "metadata": {},
   "outputs": [
    {
     "name": "stdout",
     "output_type": "stream",
     "text": [
      "True\n"
     ]
    }
   ],
   "source": [
    "str1 = \"Learnvern\"\n",
    "str2 = \"Learnvern\"\n",
    "result = str1==str2\n",
    "print(result) # Sting comparison fallows english dictionary"
   ]
  },
  {
   "cell_type": "code",
   "execution_count": 21,
   "id": "d998fcea",
   "metadata": {},
   "outputs": [
    {
     "name": "stdout",
     "output_type": "stream",
     "text": [
      "False\n"
     ]
    }
   ],
   "source": [
    "str1 = \"Learnvern\"\n",
    "str2 = \"Python\"\n",
    "result = str1 == str2\n",
    "print(result)"
   ]
  },
  {
   "cell_type": "code",
   "execution_count": 22,
   "id": "836a0f49",
   "metadata": {},
   "outputs": [
    {
     "name": "stdout",
     "output_type": "stream",
     "text": [
      "True\n"
     ]
    }
   ],
   "source": [
    "# Sting comparison fallows english dictionary\n",
    "# examples\n",
    "str1 = \"A\"\n",
    "str2 = \"B\"\n",
    "result = str1<str2\n",
    "print(result)"
   ]
  },
  {
   "cell_type": "code",
   "execution_count": 24,
   "id": "9a670746",
   "metadata": {},
   "outputs": [
    {
     "name": "stdout",
     "output_type": "stream",
     "text": [
      "True\n"
     ]
    }
   ],
   "source": [
    "str1 = \"A\"\n",
    "str2 = \"B\"\n",
    "str3 = \"C\"\n",
    "result = str2<str3\n",
    "print(result)   "
   ]
  },
  {
   "cell_type": "code",
   "execution_count": 26,
   "id": "d986ad59",
   "metadata": {},
   "outputs": [
    {
     "name": "stdout",
     "output_type": "stream",
     "text": [
      "False\n"
     ]
    }
   ],
   "source": [
    "str1 = \"A\"\n",
    "str2 = \"B\"\n",
    "str3 = \"C\"\n",
    "result = str2>str3\n",
    "print(result)"
   ]
  },
  {
   "cell_type": "code",
   "execution_count": null,
   "id": "ce809759",
   "metadata": {},
   "outputs": [],
   "source": []
  }
 ],
 "metadata": {
  "kernelspec": {
   "display_name": "Python 3 (ipykernel)",
   "language": "python",
   "name": "python3"
  },
  "language_info": {
   "codemirror_mode": {
    "name": "ipython",
    "version": 3
   },
   "file_extension": ".py",
   "mimetype": "text/x-python",
   "name": "python",
   "nbconvert_exporter": "python",
   "pygments_lexer": "ipython3",
   "version": "3.11.5"
  }
 },
 "nbformat": 4,
 "nbformat_minor": 5
}

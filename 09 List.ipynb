{
 "cells": [
  {
   "cell_type": "markdown",
   "id": "84a73772",
   "metadata": {},
   "source": [
    "# List"
   ]
  },
  {
   "cell_type": "markdown",
   "id": "f990a021",
   "metadata": {},
   "source": [
    "### What is List ?"
   ]
  },
  {
   "cell_type": "markdown",
   "id": "abc04301",
   "metadata": {},
   "source": [
    "1) List is Collection in python, which store the data into sequence.\n",
    "2) List store multiple datatype value like String, Int, Float, Character.\n",
    "3) List works on Index Value which start from zero(0).\n",
    "4) List is mutable(Changeble at runtime) data structure."
   ]
  },
  {
   "cell_type": "markdown",
   "id": "febbb915",
   "metadata": {},
   "source": [
    "## Creating a List"
   ]
  },
  {
   "cell_type": "code",
   "execution_count": 2,
   "id": "4bb3783a",
   "metadata": {},
   "outputs": [
    {
     "name": "stdout",
     "output_type": "stream",
     "text": [
      "Integer List :  [1, 2, 3, 4, 5, 6, 6]\n",
      "String List :  ['apple', 'mango', 'orange']\n"
     ]
    }
   ],
   "source": [
    "# This list store the integer value\n",
    "l1 = [1,2,3,4,5,6,6]\n",
    "\n",
    "# this list store the string value\n",
    "l2 = [\"apple\",\"mango\",\"orange\"]\n",
    "\n",
    "print(\"Integer List : \",l1)\n",
    "print(\"String List : \",l2)"
   ]
  },
  {
   "cell_type": "markdown",
   "id": "8f1387fa",
   "metadata": {},
   "source": [
    "## Duplicate Values in List"
   ]
  },
  {
   "cell_type": "code",
   "execution_count": 3,
   "id": "4974a089",
   "metadata": {},
   "outputs": [
    {
     "name": "stdout",
     "output_type": "stream",
     "text": [
      "Duplicate Value :  [1, 2, 3, 4, 5, 1, 2, 3, 4]\n"
     ]
    }
   ],
   "source": [
    "l1 = [1,2,3,4,5,1,2,3,4]\n",
    "print(\"Duplicate Value : \",l1)"
   ]
  },
  {
   "cell_type": "markdown",
   "id": "8d52583e",
   "metadata": {},
   "source": [
    "## List Contructor"
   ]
  },
  {
   "cell_type": "code",
   "execution_count": 4,
   "id": "c331c014",
   "metadata": {},
   "outputs": [
    {
     "name": "stdout",
     "output_type": "stream",
     "text": [
      "['Apple', 'Mango', 'Orange']\n"
     ]
    }
   ],
   "source": [
    "# list contructor is just like data type casting\n",
    "l1 = list((\"Apple\",\"Mango\",\"Orange\")) # Note there is Double Brackets\n",
    "print(l1)"
   ]
  },
  {
   "cell_type": "markdown",
   "id": "47c9cf99",
   "metadata": {},
   "source": [
    "## List Slicing"
   ]
  },
  {
   "cell_type": "code",
   "execution_count": 12,
   "id": "6e5f7022",
   "metadata": {},
   "outputs": [
    {
     "name": "stdout",
     "output_type": "stream",
     "text": [
      "Current List :  [1, 2, 3, 4, 5, 6, 7, 8, 9, 0]\n",
      "Index 1 value :  2\n",
      "Index Between 1 to 6 :  [2, 3, 4, 5, 6]\n",
      "Index till 6 :  [1, 2, 3, 4, 5, 6]\n",
      "Last Value :  0\n",
      "List in reverse order :  [0, 9, 8, 7, 6, 5, 4, 3, 2, 1]\n"
     ]
    }
   ],
   "source": [
    "l1 = [1,2,3,4,5,6,7,8,9,0]\n",
    "print(\"Current List : \",l1)\n",
    "\n",
    "# Access the value of Index 1\n",
    "print(\"Index 1 value : \",l1[1])\n",
    "\n",
    "# Access the value between index 1 to 6\n",
    "print(\"Index Between 1 to 6 : \",l1[1:6])\n",
    "\n",
    "# Access the value till index 6\n",
    "print(\"Index till 6 : \",l1[:6])\n",
    "\n",
    "# Access the last value from list\n",
    "print(\"Last Value : \",l1[-1])\n",
    "\n",
    "# Access the values in reverse order\n",
    "print(\"List in reverse order : \",l1[::-1])"
   ]
  },
  {
   "cell_type": "markdown",
   "id": "daf3bc04",
   "metadata": {},
   "source": [
    "## List Item Change"
   ]
  },
  {
   "cell_type": "code",
   "execution_count": 15,
   "id": "b41652a4",
   "metadata": {},
   "outputs": [
    {
     "name": "stdout",
     "output_type": "stream",
     "text": [
      "Current List :  ['Apple', 'Banan', 'Cherry', 'Mango', 'Orange', 'kiwi']\n",
      "Updated List :  ['Apple', 'Grapes', 'Watermelon', 'Mango', 'Orange', 'kiwi']\n"
     ]
    }
   ],
   "source": [
    "x = [\"Apple\",\"Banan\",\"Cherry\",\"Mango\",\"Orange\",\"kiwi\"]\n",
    "print(\"Current List : \",x)\n",
    "\n",
    "# Change the items in list\n",
    "x[1:3] = [\"Grapes\",\"Watermelon\"]\n",
    "print(\"Updated List : \",x)"
   ]
  },
  {
   "cell_type": "markdown",
   "id": "4c92ba91",
   "metadata": {},
   "source": [
    "## Insert into List"
   ]
  },
  {
   "cell_type": "code",
   "execution_count": 17,
   "id": "5523b912",
   "metadata": {},
   "outputs": [
    {
     "name": "stdout",
     "output_type": "stream",
     "text": [
      "Current List :  [1, 2, 3, 4, 5, 6]\n",
      "Updated List :  [1, 2, 'python', 3, 4, 5, 6]\n"
     ]
    }
   ],
   "source": [
    "l1 = [1,2,3,4,5,6]\n",
    "print(\"Current List : \",l1)\n",
    "\n",
    "# Updating the list using insert method\n",
    "l1.insert(2,\"python\")\n",
    "print(\"Updated List : \",l1)"
   ]
  },
  {
   "cell_type": "markdown",
   "id": "3aa43c81",
   "metadata": {},
   "source": [
    "## Extend the List"
   ]
  },
  {
   "cell_type": "code",
   "execution_count": 18,
   "id": "100e3a84",
   "metadata": {},
   "outputs": [
    {
     "name": "stdout",
     "output_type": "stream",
     "text": [
      "[1, 2, 3, 4, 5, 'A', 'B', 'C', 'D', 'E']\n"
     ]
    }
   ],
   "source": [
    "l1 = [1,2,3,4,5]\n",
    "l2 = [\"A\",\"B\",\"C\",\"D\",\"E\"]\n",
    "# Extending the list of l2 into list of l1\n",
    "l1.extend(l2)\n",
    "print(l1)"
   ]
  },
  {
   "cell_type": "markdown",
   "id": "3b47a307",
   "metadata": {},
   "source": [
    "## Remove Item from List"
   ]
  },
  {
   "cell_type": "code",
   "execution_count": 20,
   "id": "0a888275",
   "metadata": {},
   "outputs": [
    {
     "name": "stdout",
     "output_type": "stream",
     "text": [
      "Current List :  [1, 2, 3, 4, 5, 6, 7]\n",
      "Updated List :  [1, 2, 4, 5, 6, 7]\n"
     ]
    }
   ],
   "source": [
    "# remove() : This method is used to remove element from list\n",
    "\n",
    "l1 = [1,2,3,4,5,6,7]\n",
    "print(\"Current List : \",l1)\n",
    "\n",
    "# Removing the item using remove method\n",
    "l1.remove(3)\n",
    "print(\"Updated List : \",l1)"
   ]
  },
  {
   "cell_type": "markdown",
   "id": "866e09c2",
   "metadata": {},
   "source": [
    "## Pop method"
   ]
  },
  {
   "cell_type": "code",
   "execution_count": 22,
   "id": "620d710f",
   "metadata": {},
   "outputs": [
    {
     "name": "stdout",
     "output_type": "stream",
     "text": [
      "Current List :  [1, 2, 3, 4, 5, 6, 7]\n",
      "Updated List :  [1, 2, 3, 4, 5, 6]\n"
     ]
    }
   ],
   "source": [
    "# pop() : This method is used to remove last value from list\n",
    "\n",
    "l1 = [1,2,3,4,5,6,7]\n",
    "print(\"Current List : \",l1)\n",
    "\n",
    "# Remove item using pop method\n",
    "l1.pop()\n",
    "print(\"Updated List : \",l1)\n"
   ]
  },
  {
   "cell_type": "markdown",
   "id": "220c12f4",
   "metadata": {},
   "source": [
    "## Del Method"
   ]
  },
  {
   "cell_type": "code",
   "execution_count": 23,
   "id": "0b124e15",
   "metadata": {},
   "outputs": [
    {
     "name": "stdout",
     "output_type": "stream",
     "text": [
      "Current List :  [1, 2, 3, 4, 5, 6, 7]\n",
      "Updated List :  [1, 2, 4, 5, 6, 7]\n"
     ]
    }
   ],
   "source": [
    "# del() : This method is used to remove item from the index\n",
    "\n",
    "l1 = [1,2,3,4,5,6,7]\n",
    "print(\"Current List : \",l1)\n",
    "\n",
    "# Remove item using del method\n",
    "del l1[2]\n",
    "print(\"Updated List : \",l1)"
   ]
  },
  {
   "cell_type": "markdown",
   "id": "66ebd3b6",
   "metadata": {},
   "source": [
    "## Clear Method"
   ]
  },
  {
   "cell_type": "code",
   "execution_count": 25,
   "id": "744f78d1",
   "metadata": {},
   "outputs": [
    {
     "name": "stdout",
     "output_type": "stream",
     "text": [
      "Current List :  [1, 2, 3, 4, 5, 6, 7]\n",
      "Updated List :  []\n"
     ]
    }
   ],
   "source": [
    "# Clear() : this method is used to clear the list\n",
    "\n",
    "l1 = [1,2,3,4,5,6,7]\n",
    "print(\"Current List : \",l1)\n",
    "\n",
    "# Remove items using clear method\n",
    "l1.clear()\n",
    "print(\"Updated List : \",l1)"
   ]
  },
  {
   "cell_type": "code",
   "execution_count": null,
   "id": "e98c522d",
   "metadata": {},
   "outputs": [],
   "source": []
  }
 ],
 "metadata": {
  "kernelspec": {
   "display_name": "Python 3 (ipykernel)",
   "language": "python",
   "name": "python3"
  },
  "language_info": {
   "codemirror_mode": {
    "name": "ipython",
    "version": 3
   },
   "file_extension": ".py",
   "mimetype": "text/x-python",
   "name": "python",
   "nbconvert_exporter": "python",
   "pygments_lexer": "ipython3",
   "version": "3.11.5"
  }
 },
 "nbformat": 4,
 "nbformat_minor": 5
}

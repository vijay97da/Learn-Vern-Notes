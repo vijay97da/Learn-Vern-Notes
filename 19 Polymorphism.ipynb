{
 "cells": [
  {
   "cell_type": "markdown",
   "id": "8dcc2e27",
   "metadata": {},
   "source": [
    "# Polymorphism"
   ]
  },
  {
   "cell_type": "markdown",
   "id": "0af0d326",
   "metadata": {},
   "source": [
    "#### What is Polymorphism ?"
   ]
  },
  {
   "cell_type": "markdown",
   "id": "905ad5b4",
   "metadata": {},
   "source": [
    "Polymorphism means having many form of same name.       \n",
    "In programming polumorphism means function having same name but different signature."
   ]
  },
  {
   "cell_type": "markdown",
   "id": "b3d96fd4",
   "metadata": {},
   "source": [
    "#### type of Polymorphism"
   ]
  },
  {
   "cell_type": "markdown",
   "id": "6517c2ae",
   "metadata": {},
   "source": [
    "There are 2 types of Polymorphism:\n",
    "1) Compile Time Polymorphism        \n",
    "a) Method Overloading\n",
    "            \n",
    "2) Runtime Polymorphism           \n",
    "a) Method Overriding"
   ]
  },
  {
   "cell_type": "markdown",
   "id": "7566f043",
   "metadata": {},
   "source": [
    "#### What is method Overloading ?"
   ]
  },
  {
   "cell_type": "markdown",
   "id": "5dcc4b06",
   "metadata": {},
   "source": [
    "Method Overloading is the compile time polymorphism.          \n",
    "Method Overloading means having same name methods in same class, but different arguments.            \n",
    "In method overloading inheritance is not required."
   ]
  },
  {
   "cell_type": "markdown",
   "id": "98386722",
   "metadata": {},
   "source": [
    "## Method Overloading"
   ]
  },
  {
   "cell_type": "code",
   "execution_count": 1,
   "id": "7c7362ee",
   "metadata": {},
   "outputs": [
    {
     "ename": "TypeError",
     "evalue": "MO.myfunction() missing 1 required positional argument: 'b'",
     "output_type": "error",
     "traceback": [
      "\u001b[1;31m---------------------------------------------------------------------------\u001b[0m",
      "\u001b[1;31mTypeError\u001b[0m                                 Traceback (most recent call last)",
      "Cell \u001b[1;32mIn[1], line 13\u001b[0m\n\u001b[0;32m     11\u001b[0m \u001b[38;5;66;03m# Creating an object of class MO\u001b[39;00m\n\u001b[0;32m     12\u001b[0m m \u001b[38;5;241m=\u001b[39m MO()\n\u001b[1;32m---> 13\u001b[0m m\u001b[38;5;241m.\u001b[39mmyfunction(\u001b[38;5;241m10\u001b[39m)\n",
      "\u001b[1;31mTypeError\u001b[0m: MO.myfunction() missing 1 required positional argument: 'b'"
     ]
    }
   ],
   "source": [
    "class MO:\n",
    "    def myfunction(self): # No arguments\n",
    "        print(\"Function with no argument\")\n",
    "        \n",
    "    def myfunction(self,a): # 1 arguments\n",
    "        print(\"Function with 1 argument\")\n",
    "        \n",
    "    def myfunction(self,a,b): # 2 arguemtns\n",
    "        print(\"Function with 2 arguments\")\n",
    "        \n",
    "# Creating an object of class MO\n",
    "m = MO()\n",
    "m.myfunction(10)\n",
    "\n",
    "# 1st attempt with error, we put only one argument\n",
    "# TypeError: MO.myfunction() missing 1 required positional argument: 'b'\n"
   ]
  },
  {
   "cell_type": "code",
   "execution_count": 2,
   "id": "39c9ba60",
   "metadata": {},
   "outputs": [
    {
     "name": "stdout",
     "output_type": "stream",
     "text": [
      "Function with 2 arguments\n"
     ]
    }
   ],
   "source": [
    "class MO:\n",
    "    def myfunction(self): # No arguments\n",
    "        print(\"Function with no argument\")\n",
    "        \n",
    "    def myfunction(self,a): # 1 arguments\n",
    "        print(\"Function with 1 argument\")\n",
    "        \n",
    "    def myfunction(self,a,b): # 2 arguemtns\n",
    "        print(\"Function with 2 arguments\")\n",
    "        \n",
    "# Creating an object of class MO\n",
    "m = MO()\n",
    "m.myfunction(10,20)\n",
    "\n",
    "# When we run with two arguments it runs function with two arguments but we want to run function with one argument\n",
    "\n",
    "# Note : Method overloading is not supported in python because python is an interpreted language\n",
    "# it runs line by line"
   ]
  },
  {
   "cell_type": "markdown",
   "id": "813b050d",
   "metadata": {},
   "source": [
    "#### What is Method Overrding ?"
   ]
  },
  {
   "cell_type": "markdown",
   "id": "1ca4f845",
   "metadata": {},
   "source": [
    "Method Overriding is the runtime polymorphism.        \n",
    "Method Overriding means having same name methods, but into different class, arguments are also same.      \n",
    "In method overriding inheritance is compulsory."
   ]
  },
  {
   "cell_type": "markdown",
   "id": "5f227b66",
   "metadata": {},
   "source": [
    "## Method Overriding"
   ]
  },
  {
   "cell_type": "code",
   "execution_count": 9,
   "id": "ded2935a",
   "metadata": {},
   "outputs": [
    {
     "name": "stdout",
     "output_type": "stream",
     "text": [
      "Class MO3 Function Called\n"
     ]
    }
   ],
   "source": [
    "class MO1: # parent class\n",
    "    def myfunction(self,a):\n",
    "        print(\"Class MO1 Function Called\")\n",
    "        \n",
    "class MO2(MO1): # child class\n",
    "    def myfunction(self,a):\n",
    "        print(\"Class MO2 Function Called\")\n",
    "        \n",
    "class MO3(MO2): # child class\n",
    "    def myfunction(self,a):\n",
    "        print(\"Class MO3 Function Called\")\n",
    "        \n",
    "# Creating an object of class MO3\n",
    "\n",
    "m = MO3() # object of MO3\n",
    "m.myfunction(10)  \n",
    "\n",
    "# attempt first \n",
    "# by putting 1 argument you can call only MO3"
   ]
  },
  {
   "cell_type": "markdown",
   "id": "b04c797a",
   "metadata": {},
   "source": [
    "#### using Super Method in child class"
   ]
  },
  {
   "cell_type": "code",
   "execution_count": 10,
   "id": "b8628fc3",
   "metadata": {},
   "outputs": [
    {
     "name": "stdout",
     "output_type": "stream",
     "text": [
      "Class MO3 Function Called\n",
      "Class MO2 Function Called\n"
     ]
    }
   ],
   "source": [
    "class MO1: # parent class\n",
    "    def myfunction(self,a):\n",
    "        print(\"Class MO1 Function Called\")\n",
    "        \n",
    "class MO2(MO1): # child class\n",
    "    def myfunction(self,a):\n",
    "        print(\"Class MO2 Function Called\")\n",
    "        \n",
    "class MO3(MO2): # child class\n",
    "    def myfunction(self,a):\n",
    "        print(\"Class MO3 Function Called\")\n",
    "        # Super method calling the method of class MO2\n",
    "        super().myfunction(10)\n",
    "        \n",
    "\n",
    "m = MO3() # object of MO3\n",
    "m.myfunction(10) "
   ]
  },
  {
   "cell_type": "code",
   "execution_count": 11,
   "id": "aa75a675",
   "metadata": {},
   "outputs": [
    {
     "name": "stdout",
     "output_type": "stream",
     "text": [
      "Class MO3 Function Called\n",
      "Class MO2 Function Called\n",
      "Class MO1 Function Called\n"
     ]
    }
   ],
   "source": [
    "# 2nd attempt with super method\n",
    "\n",
    "class MO1: # parent class\n",
    "    def myfunction(self,a):\n",
    "        print(\"Class MO1 Function Called\")\n",
    "        # there is no need write down here just because its a parent class\n",
    "        \n",
    "class MO2(MO1): # child class\n",
    "    def myfunction(self,a):\n",
    "        print(\"Class MO2 Function Called\")\n",
    "        # Super method calling the method of class MO1\n",
    "        super().myfunction(10)\n",
    "        \n",
    "class MO3(MO2): # child class\n",
    "    def myfunction(self,a):\n",
    "        print(\"Class MO3 Function Called\")\n",
    "        # Super method calling the method of class MO2\n",
    "        super().myfunction(10)\n",
    "        \n",
    "m = MO3() # object of MO3\n",
    "m.myfunction(10)\n",
    "        "
   ]
  },
  {
   "cell_type": "code",
   "execution_count": null,
   "id": "4ce7798e",
   "metadata": {},
   "outputs": [],
   "source": []
  },
  {
   "cell_type": "code",
   "execution_count": null,
   "id": "8e11d8e8",
   "metadata": {},
   "outputs": [],
   "source": []
  }
 ],
 "metadata": {
  "kernelspec": {
   "display_name": "Python 3 (ipykernel)",
   "language": "python",
   "name": "python3"
  },
  "language_info": {
   "codemirror_mode": {
    "name": "ipython",
    "version": 3
   },
   "file_extension": ".py",
   "mimetype": "text/x-python",
   "name": "python",
   "nbconvert_exporter": "python",
   "pygments_lexer": "ipython3",
   "version": "3.11.5"
  }
 },
 "nbformat": 4,
 "nbformat_minor": 5
}

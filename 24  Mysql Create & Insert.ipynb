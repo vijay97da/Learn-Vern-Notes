{
 "cells": [
  {
   "cell_type": "markdown",
   "id": "1ce622de",
   "metadata": {},
   "source": [
    "# Create & Insert"
   ]
  },
  {
   "cell_type": "code",
   "execution_count": 1,
   "id": "98e2f5db",
   "metadata": {},
   "outputs": [
    {
     "ename": "ModuleNotFoundError",
     "evalue": "No module named 'pymysql'",
     "output_type": "error",
     "traceback": [
      "\u001b[1;31m---------------------------------------------------------------------------\u001b[0m",
      "\u001b[1;31mModuleNotFoundError\u001b[0m                       Traceback (most recent call last)",
      "Cell \u001b[1;32mIn[1], line 2\u001b[0m\n\u001b[0;32m      1\u001b[0m \u001b[38;5;66;03m# import database API\u001b[39;00m\n\u001b[1;32m----> 2\u001b[0m \u001b[38;5;28;01mimport\u001b[39;00m \u001b[38;5;21;01mpymysql\u001b[39;00m\n\u001b[0;32m      4\u001b[0m \u001b[38;5;66;03m# database connection function\u001b[39;00m\n\u001b[0;32m      5\u001b[0m \u001b[38;5;28;01mdef\u001b[39;00m \u001b[38;5;21mCreateConn\u001b[39m():\n",
      "\u001b[1;31mModuleNotFoundError\u001b[0m: No module named 'pymysql'"
     ]
    }
   ],
   "source": [
    "# import database API\n",
    "import pymysql\n",
    "\n",
    "# database connection function\n",
    "def CreateConn():\n",
    "    return pymysql.connect(host=\"localhost\",database=\"learnvern\",user=\"root\",password=\"\",port=3306)\n",
    "\n",
    "# Table Create Function\n",
    "def CreateTable():\n",
    "    conn = CreateConn()\n",
    "    cursor = conn.cursor() # helping to execute you query\n",
    "    query = \"create table student(sid int primary kay auto_increment,name VARCHAR(50),email VARCHAR(50),city VARCHAR(50))\"\n",
    "    cursor.excute(query) # excute by the help of cursor\n",
    "    conn.commit() # to save database\n",
    "    print(\"Table Created\")\n",
    "    conn.close()\n",
    "    \n",
    "createTable() # calling create table function"
   ]
  },
  {
   "cell_type": "markdown",
   "id": "2ce105a7",
   "metadata": {},
   "source": [
    "## Insert record in Database"
   ]
  },
  {
   "cell_type": "code",
   "execution_count": 2,
   "id": "93c1aa73",
   "metadata": {},
   "outputs": [
    {
     "name": "stdout",
     "output_type": "stream",
     "text": [
      "Enter your Name : vijay\n",
      "Enter your Email : vijay97hk@gmail.com\n",
      "Enter your City : nagpur\n"
     ]
    },
    {
     "ename": "NameError",
     "evalue": "name 'CreateConn' is not defined",
     "output_type": "error",
     "traceback": [
      "\u001b[1;31m---------------------------------------------------------------------------\u001b[0m",
      "\u001b[1;31mNameError\u001b[0m                                 Traceback (most recent call last)",
      "Cell \u001b[1;32mIn[2], line 15\u001b[0m\n\u001b[0;32m     12\u001b[0m e \u001b[38;5;241m=\u001b[39m \u001b[38;5;28minput\u001b[39m(\u001b[38;5;124m\"\u001b[39m\u001b[38;5;124mEnter your Email : \u001b[39m\u001b[38;5;124m\"\u001b[39m)\n\u001b[0;32m     13\u001b[0m c \u001b[38;5;241m=\u001b[39m \u001b[38;5;28minput\u001b[39m(\u001b[38;5;124m\"\u001b[39m\u001b[38;5;124mEnter your City : \u001b[39m\u001b[38;5;124m\"\u001b[39m)\n\u001b[1;32m---> 15\u001b[0m InsertData(n,e,c)\n",
      "Cell \u001b[1;32mIn[2], line 2\u001b[0m, in \u001b[0;36mInsertData\u001b[1;34m(name, email, city)\u001b[0m\n\u001b[0;32m      1\u001b[0m \u001b[38;5;28;01mdef\u001b[39;00m \u001b[38;5;21mInsertData\u001b[39m(name,email,city):\n\u001b[1;32m----> 2\u001b[0m     conn \u001b[38;5;241m=\u001b[39m CreateConn() \u001b[38;5;66;03m# Creating Connection\u001b[39;00m\n\u001b[0;32m      3\u001b[0m     cursor \u001b[38;5;241m=\u001b[39m conn\u001b[38;5;241m.\u001b[39mcursor()\n\u001b[0;32m      4\u001b[0m     args \u001b[38;5;241m=\u001b[39m (name,email,city)\n",
      "\u001b[1;31mNameError\u001b[0m: name 'CreateConn' is not defined"
     ]
    }
   ],
   "source": [
    "def InsertData(name,email,city):\n",
    "    conn = CreateConn() # Creating Connection\n",
    "    cursor = conn.cursor()\n",
    "    args = (name,email,city)\n",
    "    query = \"insert into student(name,email,city)values(%s,%s,%s)\"\n",
    "    cursor.execute(query,args)\n",
    "    conn.commit() # saving the data using commit function\n",
    "    print(\"Data inserted\")\n",
    "    conn.close()\n",
    "    \n",
    "n = input(\"Enter your Name : \")\n",
    "e = input(\"Enter your Email : \")\n",
    "c = input(\"Enter your City : \")\n",
    "\n",
    "InsertData(n,e,c)"
   ]
  },
  {
   "cell_type": "code",
   "execution_count": null,
   "id": "99774377",
   "metadata": {},
   "outputs": [],
   "source": []
  }
 ],
 "metadata": {
  "kernelspec": {
   "display_name": "Python 3 (ipykernel)",
   "language": "python",
   "name": "python3"
  },
  "language_info": {
   "codemirror_mode": {
    "name": "ipython",
    "version": 3
   },
   "file_extension": ".py",
   "mimetype": "text/x-python",
   "name": "python",
   "nbconvert_exporter": "python",
   "pygments_lexer": "ipython3",
   "version": "3.11.5"
  }
 },
 "nbformat": 4,
 "nbformat_minor": 5
}

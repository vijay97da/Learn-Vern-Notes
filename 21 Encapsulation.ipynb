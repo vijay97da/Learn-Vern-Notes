{
 "cells": [
  {
   "cell_type": "markdown",
   "id": "6c1aae08",
   "metadata": {},
   "source": [
    "# Encapsulation"
   ]
  },
  {
   "cell_type": "markdown",
   "id": "b8716226",
   "metadata": {},
   "source": [
    "#### What is Encapsulation ?"
   ]
  },
  {
   "cell_type": "markdown",
   "id": "3af2f1be",
   "metadata": {},
   "source": [
    "The process of wrapping up variables and methods into a single entity is know as Encapsulation.      \n",
    "Encapsulation         \n",
    "Class----------> Methods  /  Variable"
   ]
  },
  {
   "cell_type": "markdown",
   "id": "8406f42e",
   "metadata": {},
   "source": [
    "#### How to Achieve Encapsulation ?"
   ]
  },
  {
   "cell_type": "markdown",
   "id": "ea91418f",
   "metadata": {},
   "source": [
    "_(Single Underscore) == Single Underscore stands for protected.       \n",
    "__(Double Underscore) == Double Underscore stands for private."
   ]
  },
  {
   "cell_type": "markdown",
   "id": "d9bf466a",
   "metadata": {},
   "source": [
    "### Achieving Encapsulation by private"
   ]
  },
  {
   "cell_type": "code",
   "execution_count": 2,
   "id": "350aac0c",
   "metadata": {},
   "outputs": [
    {
     "ename": "AttributeError",
     "evalue": "'B' object has no attribute '_A__a'",
     "output_type": "error",
     "traceback": [
      "\u001b[1;31m---------------------------------------------------------------------------\u001b[0m",
      "\u001b[1;31mAttributeError\u001b[0m                            Traceback (most recent call last)",
      "Cell \u001b[1;32mIn[2], line 18\u001b[0m\n\u001b[0;32m     14\u001b[0m         \u001b[38;5;28mprint\u001b[39m(\u001b[38;5;28mself\u001b[39m\u001b[38;5;241m.\u001b[39m__a)\n\u001b[0;32m     16\u001b[0m \u001b[38;5;66;03m# creating an object of class B\u001b[39;00m\n\u001b[1;32m---> 18\u001b[0m obj \u001b[38;5;241m=\u001b[39m B(\u001b[38;5;241m20\u001b[39m)\n\u001b[0;32m     19\u001b[0m obj\u001b[38;5;241m.\u001b[39mshowB()\n",
      "Cell \u001b[1;32mIn[2], line 11\u001b[0m, in \u001b[0;36mB.__init__\u001b[1;34m(self, b)\u001b[0m\n\u001b[0;32m     10\u001b[0m \u001b[38;5;28;01mdef\u001b[39;00m \u001b[38;5;21m__init__\u001b[39m(\u001b[38;5;28mself\u001b[39m,b):\n\u001b[1;32m---> 11\u001b[0m     \u001b[38;5;28msuper\u001b[39m()\u001b[38;5;241m.\u001b[39m\u001b[38;5;21m__init__\u001b[39m(b)\n",
      "Cell \u001b[1;32mIn[2], line 3\u001b[0m, in \u001b[0;36mA.__init__\u001b[1;34m(self, a)\u001b[0m\n\u001b[0;32m      2\u001b[0m \u001b[38;5;28;01mdef\u001b[39;00m \u001b[38;5;21m__init__\u001b[39m(\u001b[38;5;28mself\u001b[39m,a):\n\u001b[1;32m----> 3\u001b[0m     \u001b[38;5;28mself\u001b[39m\u001b[38;5;241m.\u001b[39m__a\n",
      "\u001b[1;31mAttributeError\u001b[0m: 'B' object has no attribute '_A__a'"
     ]
    }
   ],
   "source": [
    "# first failed attempt with error\n",
    "# AttributeError: 'B' object has no attribute '_A__a'\n",
    "\n",
    "# Note :- you cannot achieving private in parent with help of other object\n",
    "\n",
    "\n",
    "class A: # parent class\n",
    "    def __init__(self,a):\n",
    "        self.__a # the variable a is a private variable\n",
    "        \n",
    "    def show(self):\n",
    "        print(\"private variable : \",self.__a)\n",
    "        \n",
    "        \n",
    "class B(A): # child class\n",
    "    def __init__(self,b):\n",
    "        super().__init__(b)\n",
    "        \n",
    "    def showB(self):\n",
    "        print(self.__a)\n",
    "        \n",
    "# creating an object of class B\n",
    "\n",
    "obj = B(20)\n",
    "obj.showB()\n",
    "\n"
   ]
  },
  {
   "cell_type": "markdown",
   "id": "973b8782",
   "metadata": {},
   "source": [
    "### Achieving Encapsulation by protected"
   ]
  },
  {
   "cell_type": "code",
   "execution_count": 3,
   "id": "178eddc4",
   "metadata": {},
   "outputs": [
    {
     "name": "stdout",
     "output_type": "stream",
     "text": [
      "variable value :  30\n"
     ]
    }
   ],
   "source": [
    "class A: # parent class\n",
    "    def __init__(self,a):\n",
    "        self._a=a # this variable a is a protected variable\n",
    "        \n",
    "    def show(self):\n",
    "        print(\"protected variable : \",self._a)\n",
    "        \n",
    "        \n",
    "class B(A): # child class\n",
    "    def __init__(self,b):\n",
    "        super().__init__(b)\n",
    "        \n",
    "    def showB(self):\n",
    "        print(\"variable value : \",self._a)\n",
    "        \n",
    "# creating an object of class B\n",
    "\n",
    "obj = B(30)\n",
    "obj.showB()"
   ]
  },
  {
   "cell_type": "code",
   "execution_count": null,
   "id": "0df035fc",
   "metadata": {},
   "outputs": [],
   "source": []
  }
 ],
 "metadata": {
  "kernelspec": {
   "display_name": "Python 3 (ipykernel)",
   "language": "python",
   "name": "python3"
  },
  "language_info": {
   "codemirror_mode": {
    "name": "ipython",
    "version": 3
   },
   "file_extension": ".py",
   "mimetype": "text/x-python",
   "name": "python",
   "nbconvert_exporter": "python",
   "pygments_lexer": "ipython3",
   "version": "3.11.5"
  }
 },
 "nbformat": 4,
 "nbformat_minor": 5
}
